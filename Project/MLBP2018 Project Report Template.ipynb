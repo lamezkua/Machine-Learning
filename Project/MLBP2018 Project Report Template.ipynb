{
 "cells": [
  {
   "cell_type": "markdown",
   "metadata": {},
   "source": [
    "**Machine Learning Basic Principles 2018 - Data Analysis Project Report**"
   ]
  },
  {
   "cell_type": "markdown",
   "metadata": {},
   "source": [
    "*All the text in italics is instructions for filling the template - remove when writing the project report!*"
   ]
  },
  {
   "cell_type": "markdown",
   "metadata": {},
   "source": [
    "# *Title* "
   ]
  },
  {
   "cell_type": "markdown",
   "metadata": {},
   "source": [
    "*Title should be concise and informative, describes the approach to solve the problem. Some good titles from previous years:*\n",
    "\n",
    "*- Comparing extreme learning machines and naive bayes’ classifier in spam detection*\n",
    "\n",
    "*- Using linear discriminant analysis in spam detection*\n",
    "\n",
    "*Some not-so-good titles:*\n",
    "\n",
    "*- Bayesian spam filtering with extras*\n",
    "\n",
    "*- Two-component classifier for spam detection*\n",
    "\n",
    "*- CS-E3210 Term Project, final report*\n",
    "\n",
    "\n"
   ]
  },
  {
   "cell_type": "markdown",
   "metadata": {},
   "source": [
    "## Abstract"
   ]
  },
  {
   "cell_type": "markdown",
   "metadata": {},
   "source": [
    "*Precise summary of the whole report, previews the contents and results. Must be a single paragraph between 100 and 200 words.*\n",
    "\n"
   ]
  },
  {
   "cell_type": "markdown",
   "metadata": {},
   "source": [
    "## 1. Introduction"
   ]
  },
  {
   "cell_type": "markdown",
   "metadata": {},
   "source": [
    "*Background, problem statement, motivation, many references, description of\n",
    "contents. Introduces the reader to the topic and the broad context within which your\n",
    "research/project fits*\n",
    "\n",
    "*- What do you hope to learn from the project?*\n",
    "*- What question is being addressed?*\n",
    "*- Why is this task important? (motivation)*\n",
    "\n",
    "*Keep it short (half to 1 page).*\n",
    "\n"
   ]
  },
  {
   "cell_type": "markdown",
   "metadata": {},
   "source": [
    "## 2. Data analysis"
   ]
  },
  {
   "cell_type": "markdown",
   "metadata": {},
   "source": [
    "*Briefly describe data (class distribution, dimensionality) and how will it affect\n",
    "classification. Visualize the data. Don’t focus too much on the meaning of the features,\n",
    "unless you want to.*\n",
    "\n",
    "*- Include histograms showing class distribution.*\n",
    "\n"
   ]
  },
  {
   "cell_type": "code",
   "execution_count": 2,
   "metadata": {},
   "outputs": [],
   "source": [
    "# Import libraries\n",
    "import pandas as pd\n",
    "import numpy as np\n",
    "#...\n"
   ]
  },
  {
   "cell_type": "code",
   "execution_count": 3,
   "metadata": {},
   "outputs": [
    {
     "name": "stderr",
     "output_type": "stream",
     "text": [
      "/opt/conda/lib/python3.6/site-packages/ipykernel_launcher.py:4: FutureWarning: Method .as_matrix will be removed in a future version. Use .values instead.\n",
      "  after removing the cwd from sys.path.\n"
     ]
    },
    {
     "data": {
      "text/html": [
       "<div>\n",
       "<style scoped>\n",
       "    .dataframe tbody tr th:only-of-type {\n",
       "        vertical-align: middle;\n",
       "    }\n",
       "\n",
       "    .dataframe tbody tr th {\n",
       "        vertical-align: top;\n",
       "    }\n",
       "\n",
       "    .dataframe thead th {\n",
       "        text-align: right;\n",
       "    }\n",
       "</style>\n",
       "<table border=\"1\" class=\"dataframe\">\n",
       "  <thead>\n",
       "    <tr style=\"text-align: right;\">\n",
       "      <th></th>\n",
       "      <th>1040.7</th>\n",
       "      <th>2315.6</th>\n",
       "      <th>2839.1</th>\n",
       "      <th>2552.2</th>\n",
       "      <th>2290.4</th>\n",
       "      <th>1913.8</th>\n",
       "      <th>2152.6</th>\n",
       "      <th>1930.3</th>\n",
       "      <th>2079.3</th>\n",
       "      <th>1706.7</th>\n",
       "      <th>...</th>\n",
       "      <th>0.21649</th>\n",
       "      <th>0.36548</th>\n",
       "      <th>0.093584</th>\n",
       "      <th>0.16687</th>\n",
       "      <th>0.083426</th>\n",
       "      <th>0.11809</th>\n",
       "      <th>0.089792</th>\n",
       "      <th>0.074371</th>\n",
       "      <th>0.073162</th>\n",
       "      <th>0.059463</th>\n",
       "    </tr>\n",
       "  </thead>\n",
       "  <tbody>\n",
       "    <tr>\n",
       "      <th>0</th>\n",
       "      <td>2309.4</td>\n",
       "      <td>4780.4</td>\n",
       "      <td>4055.7</td>\n",
       "      <td>3120.5</td>\n",
       "      <td>1979.9</td>\n",
       "      <td>2343.6</td>\n",
       "      <td>2634.2</td>\n",
       "      <td>3208.5</td>\n",
       "      <td>3078.0</td>\n",
       "      <td>3374.7</td>\n",
       "      <td>...</td>\n",
       "      <td>0.100670</td>\n",
       "      <td>0.147390</td>\n",
       "      <td>0.102560</td>\n",
       "      <td>0.213040</td>\n",
       "      <td>0.082041</td>\n",
       "      <td>0.080967</td>\n",
       "      <td>0.076450</td>\n",
       "      <td>0.052523</td>\n",
       "      <td>0.052357</td>\n",
       "      <td>0.055297</td>\n",
       "    </tr>\n",
       "    <tr>\n",
       "      <th>1</th>\n",
       "      <td>2331.9</td>\n",
       "      <td>4607.0</td>\n",
       "      <td>4732.3</td>\n",
       "      <td>5007.0</td>\n",
       "      <td>3164.9</td>\n",
       "      <td>3171.9</td>\n",
       "      <td>2915.7</td>\n",
       "      <td>3282.3</td>\n",
       "      <td>2400.0</td>\n",
       "      <td>1895.2</td>\n",
       "      <td>...</td>\n",
       "      <td>0.126760</td>\n",
       "      <td>0.363210</td>\n",
       "      <td>0.114200</td>\n",
       "      <td>0.223780</td>\n",
       "      <td>0.100770</td>\n",
       "      <td>0.186910</td>\n",
       "      <td>0.067270</td>\n",
       "      <td>0.061138</td>\n",
       "      <td>0.085509</td>\n",
       "      <td>0.049422</td>\n",
       "    </tr>\n",
       "    <tr>\n",
       "      <th>2</th>\n",
       "      <td>3350.9</td>\n",
       "      <td>6274.4</td>\n",
       "      <td>5037.0</td>\n",
       "      <td>4609.7</td>\n",
       "      <td>3438.8</td>\n",
       "      <td>3925.8</td>\n",
       "      <td>3746.4</td>\n",
       "      <td>3539.4</td>\n",
       "      <td>3053.7</td>\n",
       "      <td>3075.4</td>\n",
       "      <td>...</td>\n",
       "      <td>0.096479</td>\n",
       "      <td>0.289500</td>\n",
       "      <td>0.074124</td>\n",
       "      <td>0.201580</td>\n",
       "      <td>0.049032</td>\n",
       "      <td>0.130210</td>\n",
       "      <td>0.045800</td>\n",
       "      <td>0.080885</td>\n",
       "      <td>0.148910</td>\n",
       "      <td>0.042027</td>\n",
       "    </tr>\n",
       "    <tr>\n",
       "      <th>3</th>\n",
       "      <td>2017.6</td>\n",
       "      <td>3351.8</td>\n",
       "      <td>2924.9</td>\n",
       "      <td>2726.3</td>\n",
       "      <td>1979.9</td>\n",
       "      <td>1930.9</td>\n",
       "      <td>2083.4</td>\n",
       "      <td>1889.2</td>\n",
       "      <td>1695.4</td>\n",
       "      <td>1911.7</td>\n",
       "      <td>...</td>\n",
       "      <td>0.138340</td>\n",
       "      <td>0.382660</td>\n",
       "      <td>0.079402</td>\n",
       "      <td>0.063495</td>\n",
       "      <td>0.053717</td>\n",
       "      <td>0.086750</td>\n",
       "      <td>0.062090</td>\n",
       "      <td>0.048999</td>\n",
       "      <td>0.033159</td>\n",
       "      <td>0.070813</td>\n",
       "    </tr>\n",
       "    <tr>\n",
       "      <th>4</th>\n",
       "      <td>1229.8</td>\n",
       "      <td>3005.8</td>\n",
       "      <td>2818.4</td>\n",
       "      <td>2640.1</td>\n",
       "      <td>2329.1</td>\n",
       "      <td>2568.4</td>\n",
       "      <td>2772.1</td>\n",
       "      <td>3119.3</td>\n",
       "      <td>2505.8</td>\n",
       "      <td>2085.0</td>\n",
       "      <td>...</td>\n",
       "      <td>0.137290</td>\n",
       "      <td>0.065876</td>\n",
       "      <td>0.078278</td>\n",
       "      <td>0.058903</td>\n",
       "      <td>0.051245</td>\n",
       "      <td>0.049138</td>\n",
       "      <td>0.070669</td>\n",
       "      <td>0.067383</td>\n",
       "      <td>0.053383</td>\n",
       "      <td>0.037763</td>\n",
       "    </tr>\n",
       "  </tbody>\n",
       "</table>\n",
       "<p>5 rows × 264 columns</p>\n",
       "</div>"
      ],
      "text/plain": [
       "   1040.7  2315.6  2839.1  2552.2  2290.4  1913.8  2152.6  1930.3  2079.3  \\\n",
       "0  2309.4  4780.4  4055.7  3120.5  1979.9  2343.6  2634.2  3208.5  3078.0   \n",
       "1  2331.9  4607.0  4732.3  5007.0  3164.9  3171.9  2915.7  3282.3  2400.0   \n",
       "2  3350.9  6274.4  5037.0  4609.7  3438.8  3925.8  3746.4  3539.4  3053.7   \n",
       "3  2017.6  3351.8  2924.9  2726.3  1979.9  1930.9  2083.4  1889.2  1695.4   \n",
       "4  1229.8  3005.8  2818.4  2640.1  2329.1  2568.4  2772.1  3119.3  2505.8   \n",
       "\n",
       "   1706.7    ...      0.21649   0.36548  0.093584   0.16687  0.083426  \\\n",
       "0  3374.7    ...     0.100670  0.147390  0.102560  0.213040  0.082041   \n",
       "1  1895.2    ...     0.126760  0.363210  0.114200  0.223780  0.100770   \n",
       "2  3075.4    ...     0.096479  0.289500  0.074124  0.201580  0.049032   \n",
       "3  1911.7    ...     0.138340  0.382660  0.079402  0.063495  0.053717   \n",
       "4  2085.0    ...     0.137290  0.065876  0.078278  0.058903  0.051245   \n",
       "\n",
       "    0.11809  0.089792  0.074371  0.073162  0.059463  \n",
       "0  0.080967  0.076450  0.052523  0.052357  0.055297  \n",
       "1  0.186910  0.067270  0.061138  0.085509  0.049422  \n",
       "2  0.130210  0.045800  0.080885  0.148910  0.042027  \n",
       "3  0.086750  0.062090  0.048999  0.033159  0.070813  \n",
       "4  0.049138  0.070669  0.067383  0.053383  0.037763  \n",
       "\n",
       "[5 rows x 264 columns]"
      ]
     },
     "metadata": {},
     "output_type": "display_data"
    }
   ],
   "source": [
    "# Load the data and cleanup\n",
    "#read in data from the csv file\n",
    "df = pd.read_csv(\"train_data.csv\")\n",
    "data=df.as_matrix()\n",
    "\n",
    "#display first 5 rows, to get a feeling for the data\n",
    "display(df.head(5))"
   ]
  },
  {
   "cell_type": "code",
   "execution_count": 3,
   "metadata": {
    "collapsed": true
   },
   "outputs": [],
   "source": [
    "#Analysis of the input data\n",
    "# ..."
   ]
  },
  {
   "cell_type": "markdown",
   "metadata": {},
   "source": [
    "## 3. Methods and experiments"
   ]
  },
  {
   "cell_type": "markdown",
   "metadata": {},
   "source": [
    "*- Explain your whole approach (you can include a block diagram showing the steps in your process).* \n",
    "\n",
    "*- What methods/algorithms, why were the methods chosen. *\n",
    "\n",
    "*- What evaluation methodology (cross CV, etc.).*\n",
    "\n"
   ]
  },
  {
   "cell_type": "code",
   "execution_count": 4,
   "metadata": {
    "collapsed": true
   },
   "outputs": [],
   "source": [
    "# Trials with ML algorithms"
   ]
  },
  {
   "cell_type": "markdown",
   "metadata": {},
   "source": [
    "## 4. Results"
   ]
  },
  {
   "cell_type": "markdown",
   "metadata": {},
   "source": [
    "*Summarize the results of the experiments without discussing their implications.*\n",
    "\n",
    "*- Include both performance measures (accuracy and LogLoss).*\n",
    "\n",
    "*- How does it perform on kaggle compared to the train data.*\n",
    "\n",
    "*- Include a confusion matrix.*\n",
    "\n"
   ]
  },
  {
   "cell_type": "code",
   "execution_count": 5,
   "metadata": {
    "collapsed": true
   },
   "outputs": [],
   "source": [
    "#Confusion matrix ..."
   ]
  },
  {
   "cell_type": "markdown",
   "metadata": {},
   "source": [
    "## 5. Discussion/Conclusions"
   ]
  },
  {
   "cell_type": "markdown",
   "metadata": {},
   "source": [
    "*Interpret and explain your results *\n",
    "\n",
    "*- Discuss the relevance of the performance measures (accuracy and LogLoss) for\n",
    "imbalanced multiclass datasets. *\n",
    "\n",
    "*- How the results relate to the literature. *\n",
    "\n",
    "*- Suggestions for future research/improvement. *\n",
    "\n",
    "*- Did the study answer your questions? *\n",
    "\n"
   ]
  },
  {
   "cell_type": "markdown",
   "metadata": {},
   "source": [
    "## 6. References"
   ]
  },
  {
   "cell_type": "markdown",
   "metadata": {},
   "source": [
    "*List of all the references cited in the document*"
   ]
  },
  {
   "cell_type": "markdown",
   "metadata": {},
   "source": [
    "## Appendix\n",
    "*Any additional material needed to complete the report can be included here. For example, if you want to keep  additional source code, additional images or plots, mathematical derivations, etc. The content should be relevant to the report and should help explain or visualize something mentioned earlier. **You can remove the whole Appendix section if there is no need for it.** *"
   ]
  },
  {
   "cell_type": "code",
   "execution_count": null,
   "metadata": {
    "collapsed": true
   },
   "outputs": [],
   "source": []
  }
 ],
 "metadata": {
  "kernelspec": {
   "display_name": "Python 3",
   "language": "python",
   "name": "python3"
  },
  "language_info": {
   "codemirror_mode": {
    "name": "ipython",
    "version": 3
   },
   "file_extension": ".py",
   "mimetype": "text/x-python",
   "name": "python",
   "nbconvert_exporter": "python",
   "pygments_lexer": "ipython3",
   "version": "3.6.5"
  }
 },
 "nbformat": 4,
 "nbformat_minor": 2
}
