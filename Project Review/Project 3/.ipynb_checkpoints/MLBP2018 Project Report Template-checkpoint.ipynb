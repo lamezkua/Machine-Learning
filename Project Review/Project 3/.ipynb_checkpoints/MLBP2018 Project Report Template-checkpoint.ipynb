{
 "cells": [
  {
   "cell_type": "markdown",
   "metadata": {},
   "source": [
    "**Machine Learning Basic Principles 2018 - Data Analysis Project Report**"
   ]
  },
  {
   "cell_type": "markdown",
   "metadata": {},
   "source": [
    "# Comparing different solvers for Logistic Regression in music genre classification"
   ]
  },
  {
   "cell_type": "markdown",
   "metadata": {},
   "source": [
    "## Abstract"
   ]
  },
  {
   "cell_type": "markdown",
   "metadata": {},
   "source": [
    "This project makes use of different solvers to classify music into different genres using logistic regression using classifiers available from the scikit-learn Python library. Classifiers include liblinear, newton-cg, lbfgs, sag, and saga. Various modes for each classifier were also available, with a multinomial and one vs rest mode available for most of the classifiers save liblinear, and two different kind of penalties (l1 and l2). 4361 music samples were used to train all the different classifiers with all configurations of modes and penalities, and the classifier with the best training balanced accuracy and the best training log loss were selected. The best classifier by both metrics turned out to be the liblinear classifier, achieving a balanced accuracy of 0.7183 and a log loss of 0.8660. When used to predict test data, the classifier achieved an accuracy of 0.63219 and a log loss of 0.19278. \n",
    "\n"
   ]
  },
  {
   "cell_type": "markdown",
   "metadata": {},
   "source": [
    "## 1. Introduction"
   ]
  },
  {
   "cell_type": "markdown",
   "metadata": {},
   "source": [
    "Music genre classification is a challenging task, even with machine learning methods (Bahuleyan, 2018). Nonetheless, if properly done, music genre classification certainly could have many uses, including but not limited to recommendation systems where music streaming providers can recommend music of similar genre to what listeners often listen to. It could also possibly be used in early music education, where such a classifier could help young children better distinguish between different genres of music. \n",
    "\n",
    "However, with so many different machine learning methods available, it can be difficult to choose the right method for the task. Thus, in this project, we will explore various different classifiers that all make use of logistic regression and attempt to see which classifier works the best for the task at hand. We will be trying all the logistic regression classifiers available in the scikit-learn Python machine learning library and evaluating their performance.\n",
    "\n",
    "Through this, we hope to expand our knowledge about various logistic regression methods, as well as to learn more about the tools we have at hand today to perform machine learning tasks. \n",
    "\n"
   ]
  },
  {
   "cell_type": "markdown",
   "metadata": {},
   "source": [
    "## 2. Data analysis"
   ]
  },
  {
   "cell_type": "markdown",
   "metadata": {},
   "source": [
    "The feature vectors that we have contain 264 features, which is already a fairly small number of features, which means that computation will not be too heavy. However, due to the large sample size of 4362 for the training data, it would be desirable to reduce the number of features if possible. \n",
    "\n",
    "Therefore, we processed the data and found that for all training and test data, the 216th to 219th elements of the feature vector always had identical values (1e06). We thus removed those values from the feature vector to increase the speed of computation. \n",
    "\n",
    "In terms of class distribution, it can be seen that there is a large amount of labelled data corresponding to label 1 (Pop_Rock) as compared to the other labels. This could lead to fairly accurate predictions for Pop/Rock songs, but could mean that predictions for other genres of music may not be as accurate. \n"
   ]
  },
  {
   "cell_type": "code",
   "execution_count": 31,
   "metadata": {
    "deletable": false,
    "nbgrader": {
     "cell_type": "code",
     "checksum": "014a593ce82d342a60d749c7a2c46b7c",
     "grade": true,
     "grade_id": "cell-c3ef844c17cf4a1e",
     "locked": false,
     "points": 1,
     "schema_version": 2,
     "solution": true
    }
   },
   "outputs": [],
   "source": [
    "# Import libraries\n",
    "import pandas as pd\n",
    "import numpy as np\n",
    "import sklearn.linear_model\n",
    "import matplotlib.pyplot as plt\n",
    "\n",
    "from sklearn.utils.class_weight import compute_sample_weight\n",
    "from sklearn.metrics import balanced_accuracy_score, log_loss, confusion_matrix\n",
    "from sklearn.model_selection import train_test_split\n",
    "\n"
   ]
  },
  {
   "cell_type": "code",
   "execution_count": 32,
   "metadata": {},
   "outputs": [
    {
     "name": "stdout",
     "output_type": "stream",
     "text": [
      "Items at indexes [216 217 218 219] for every feature vector are equal for both test and training data\n"
     ]
    }
   ],
   "source": [
    "# Load the data and cleanup\n",
    "train_data = pd.read_csv('train_data.csv', header=None).values\n",
    "test_data = pd.read_csv('test_data.csv', header=None).values\n",
    "# algorithm to search for repeated values in all data\n",
    "# this allows us to remove such repeated values to reduce the size of the feature vector\n",
    "equals = None # array that stores indexes where values are equal\n",
    "for i in range(len(train_data) - 1):\n",
    "    if equals is None:\n",
    "        equals = np.where(np.equal(train_data[i], train_data[i+1]))\n",
    "    else:\n",
    "        equals_i = np.where(np.equal(train_data[i], train_data[i+1]))\n",
    "        equals = np.intersect1d(equals, equals_i)\n",
    "\n",
    "for i in range(len(test_data) - 1):\n",
    "    \n",
    "    if equals is None:\n",
    "        equals = np.where(np.equal(test_data[i], test_data[i+1]))\n",
    "    else:\n",
    "        equals_i = np.where(np.equal(test_data[i], test_data[i+1]))\n",
    "        equals = np.intersect1d(equals, equals_i)\n",
    "print(\"Items at indexes %s for every feature vector are equal for both test and training data\" % equals)\n",
    "# delete repeated elements in feature vectors\n",
    "np.delete(train_data, equals, axis=1)\n",
    "np.delete(test_data, equals, axis=1);"
   ]
  },
  {
   "cell_type": "code",
   "execution_count": 33,
   "metadata": {},
   "outputs": [
    {
     "data": {
      "image/png": "[encoded data removed]",
      "text/plain": [
       "<Figure size 432x288 with 1 Axes>"
      ]
     },
     "metadata": {},
     "output_type": "display_data"
    }
   ],
   "source": [
    "#Analysis of the input data\n",
    "# plot of the class histogram\n",
    "train_labels = pd.read_csv('train_labels.csv', header=None).values\n",
    "plt.hist(train_labels, bins=20)\n",
    "plt.title(\"Class distribution of data\")\n",
    "plt.show()\n",
    "count = 0"
   ]
  },
  {
   "cell_type": "code",
   "execution_count": null,
   "metadata": {
    "scrolled": true
   },
   "outputs": [],
   "source": []
  },
  {
   "cell_type": "markdown",
   "metadata": {},
   "source": [
    "## 3. Methods and experiments"
   ]
  },
  {
   "cell_type": "markdown",
   "metadata": {},
   "source": [
    "We performed logistic regression in order to classify the data points into the various music genres. As there are many different solvers and parameters for logistic regression using the scikit-learn library, we decided to simply try all of the different solvers before choosing the best ones.\n",
    "\n",
    "Specifically, we chose two solvers out of all the solvers - that is, the solver with the best balanced accuracy, and the solver with the lowest logistic loss. This is so as the two competitions on Kaggle use these accuracy and log loss to judge the solver, and it is reasonable to assume that a solver that has a low training accuracy would have a low test accuracy, and that a solver with a low training logistic loss would have a low test logistic loss.\n",
    "\n",
    "One thing to note is that we use balanced accuracy instead of normal accuracy to determine the best solver. This is so as the data set is extremely unbalanced, and using balanced accuracy allows us to take this into account when deciding which solver performs optimally. Similarly, in the computation of log loss, we also take into account the sample weights.\n",
    "\n",
    "We also tried two different methods to measure the metrics - the first was to use the entire set of training data as both the training and the data used for evaluation, while the second was to split the data into training and test data. While we expected the second one to perform better as it combats overfitting, it turned out that the first method actually performed better in the Kaggle competition and thus that is the method that is used here. We suspect that this is due to the fact that splitting the data into training and test sets reduce the sample size used in training, which impacted the performance of the classifier negatively. "
   ]
  },
  {
   "cell_type": "code",
   "execution_count": 36,
   "metadata": {},
   "outputs": [
    {
     "name": "stdout",
     "output_type": "stream",
     "text": [
      "running newton-cg in one vs rest mode with l2 penalty\n",
      "running lbfgs in one vs rest mode with l2 penalty\n",
      "running liblinear in one vs rest mode with l1 penalty\n",
      "running liblinear in one vs rest mode with l2 penalty\n",
      "running sag in one vs rest mode with l2 penalty\n",
      "running saga in one vs rest mode with l1 penalty\n",
      "running saga in one vs rest mode with l2 penalty\n",
      "running newton-cg in multinomial mode with l2 penalty\n",
      "running lbfgs in multinomial mode with l2 penalty\n",
      "running sag in multinomial mode with l2 penalty\n",
      "running saga in multinomial mode with l1 penalty\n",
      "running saga in multinomial mode with l2 penalty\n",
      "Classification complete\n"
     ]
    }
   ],
   "source": [
    "# Trials with ML algorithms\n",
    "\n",
    "# X_train, X_test, y_train, y_test = train_test_split(train_data, np.transpose(train_labels)[0], random_state=0)\n",
    "import warnings\n",
    "from sklearn.exceptions import ConvergenceWarning\n",
    "warnings.filterwarnings(\"ignore\", category=ConvergenceWarning)\n",
    "X_train = train_data\n",
    "X_test = X_train\n",
    "y_train = np.transpose(train_labels)[0]\n",
    "y_test = y_train\n",
    "sample_weight = compute_sample_weight(class_weight=None, y=y_test)\n",
    "fast = False # set this to True to only run the best solver\n",
    "# Try one vs rest approach\n",
    "# use all solvers\n",
    "if fast:\n",
    "    solvers = {'liblinear': ['l1']}\n",
    "else:\n",
    "    solvers = {'newton-cg': ['l2'], 'lbfgs': ['l2'], 'liblinear': ['l1','l2'], 'sag': ['l2'], 'saga': ['l1','l2']}\n",
    "results = {}\n",
    "classifiers = {}\n",
    "best_score = 0\n",
    "least_loss = 9999\n",
    "for solver in solvers:\n",
    "    for penalty in solvers[solver]:\n",
    "        print('running %s in one vs rest mode with %s penalty' % (solver, penalty))\n",
    "        classifier = sklearn.linear_model.LogisticRegression(multi_class='ovr', solver=solver, penalty=penalty).fit(X_train, y_train)\n",
    "        y_pred = classifier.predict(X_test)\n",
    "        # save highest score. We use balanced score to account for imbalance in data\n",
    "        score = balanced_accuracy_score(y_test, y_pred, sample_weight)\n",
    "        # calculate log loss and save lowest log loss\n",
    "        probabilities = classifier.predict_proba(X_test)\n",
    "        loss = log_loss(y_test, probabilities, sample_weight=sample_weight, labels=[1,2,3,4,5,6,7,8,9,10])\n",
    "        if score > best_score:\n",
    "            best_score = score\n",
    "            best_accuracy_classifier = classifier\n",
    "            best_accuracy_method = \"%s - %s (%s penalty)\" %(solver, 'one vs rest', penalty)\n",
    "        if loss < least_loss:\n",
    "            least_loss = loss\n",
    "            best_log_loss_classifier = classifier\n",
    "            best_log_loss_method = \"%s - %s (%s penalty)\" %(solver, 'one vs rest', penalty)\n",
    "    \n",
    "        \n",
    "# Try true multinomial approach\n",
    "for solver in solvers:\n",
    "    # liblinear solver does not support true multinomial model\n",
    "    if solver != 'liblinear':\n",
    "        for penalty in solvers[solver]:\n",
    "            print('running %s in multinomial mode with %s penalty' % (solver, penalty))\n",
    "            classifier = sklearn.linear_model.LogisticRegression(multi_class='multinomial', solver=solver, penalty=penalty).fit(X_train, y_train)\n",
    "            y_pred = classifier.predict(X_test)\n",
    "            score = balanced_accuracy_score(y_test, y_pred, sample_weight)\n",
    "            # calculate log loss and save lowest log loss\n",
    "            probabilities = classifier.predict_proba(X_test)\n",
    "            loss = log_loss(y_test, probabilities, labels=[1,2,3,4,5,6,7,8,9,10], sample_weight=sample_weight)\n",
    "            # save highest score\n",
    "            if score > best_score:\n",
    "                best_score = score\n",
    "                best_classifier = classifier\n",
    "                best_method = \"%s - %s (%s penalty)\" %(solver, 'multinomial', penalty)\n",
    "            if loss < least_loss:\n",
    "                least_loss = loss\n",
    "                best_log_loss_classifier = classifier\n",
    "                best_log_loss_method = \"%s - %s (%s penalty)\" %(solver, 'multinomial', penalty)\n",
    "        \n",
    "print(\"Classification complete\")\n"
   ]
  },
  {
   "cell_type": "code",
   "execution_count": 38,
   "metadata": {},
   "outputs": [
    {
     "name": "stdout",
     "output_type": "stream",
     "text": [
      "Method with highest balanced accuracy is liblinear - one vs rest (l1 penalty) with a balanced accuracy of 0.509821777506\n",
      "This method has an accuracy of 0.718313087325\n",
      "Method with lowest log loss is liblinear - one vs rest (l1 penalty) with balanced log loss of 0.866029224694\n",
      "This method has a log loss of 0.866029224694\n",
      "File writing complete\n"
     ]
    }
   ],
   "source": [
    "# print results and write to file\n",
    "print(\"Method with highest balanced accuracy is %s with a balanced accuracy of %s\" %(best_accuracy_method, best_score))\n",
    "accuracy = best_accuracy_classifier.score(X_train,y_train)\n",
    "print(\"This method has an accuracy of %s\" % accuracy)\n",
    "print(\"Method with lowest log loss is %s with balanced log loss of %s\" %(best_log_loss_method, least_loss))\n",
    "probabilities = best_log_loss_classifier.predict_proba(X_test)\n",
    "loss = log_loss(y_test, probabilities)\n",
    "print(\"This method has a log loss of %s\" % loss)\n",
    "predicted = best_accuracy_classifier.predict(test_data)\n",
    "probabilities = best_log_loss_classifier.predict_proba(test_data)\n",
    "with open('output_accuracy.csv', 'w') as f:\n",
    "    f.write(\"Sample_id,Sample_label\\n\")\n",
    "    for i in range(len(predicted)):\n",
    "        f.write(\"%s,%s\\n\" % (i+1, predicted[i]))\n",
    "with open('output_logloss.csv', 'w') as f:\n",
    "    f.write(\"Sample_id,Class_1,Class_2,Class_3,Class_4,Class_5,Class_6,Class_7,Class_8,Class_9,Class_10\\n\")\n",
    "    for i in range(len(probabilities)):\n",
    "        arr_string = np.char.mod('%f', probabilities[i])\n",
    "        f.write(str(i+1) + \",\" + \",\".join(arr_string) + \"\\n\")\n",
    "print(\"File writing complete\")"
   ]
  },
  {
   "cell_type": "markdown",
   "metadata": {},
   "source": [
    "## 4. Results"
   ]
  },
  {
   "cell_type": "markdown",
   "metadata": {},
   "source": [
    "As it turned out, the best classifier for both balanced accuracy and log loss was the liblinear classifier with l1 penalty. The training accuracy of this classifier was 0.7183 and the log loss was 0.8660. As we would expect, it performed worse on accuracy in the kaggle competition, with an accuracy of 0.63219. This is due to the fact that this classifier was trained specifically to fit the training data, and so we would expect it to perform better on the training data. However the classifier surprisingly performed better for log loss, with a log loss of 0.19278. \n",
    "\n",
    "The confusion matrix for this classifier is shown below.\n"
   ]
  },
  {
   "cell_type": "code",
   "execution_count": 8,
   "metadata": {},
   "outputs": [
    {
     "data": {
      "text/plain": [
       "array([[1981,   94,   19,   24,   11,   24,    5,   16,    3,    1],\n",
       "       [ 165,  412,   14,   11,    5,   10,    0,    0,    1,    0],\n",
       "       [  41,   22,  247,    3,    1,    8,    1,    0,    3,    0],\n",
       "       [  56,   23,    2,  155,    3,    7,    2,    4,    0,    1],\n",
       "       [ 116,   11,    9,    8,   49,    6,    2,    3,    7,    3],\n",
       "       [  94,    7,   15,   10,    8,  117,    2,    2,    4,    1],\n",
       "       [  80,   12,   10,    4,    4,    6,   19,    3,    2,    1],\n",
       "       [ 104,    1,    0,    1,    1,    3,    1,   84,    0,    0],\n",
       "       [  10,    7,   13,    0,    4,    1,    0,    0,   57,    0],\n",
       "       [  47,    0,    1,    6,    1,    0,    3,    4,    0,   24]])"
      ]
     },
     "execution_count": 8,
     "metadata": {},
     "output_type": "execute_result"
    }
   ],
   "source": [
    "y_pred = best_accuracy_classifier.predict(X_test)\n",
    "confusion_matrix(y_train, y_pred)"
   ]
  },
  {
   "cell_type": "markdown",
   "metadata": {},
   "source": [
    "## 5. Discussion/Conclusions"
   ]
  },
  {
   "cell_type": "markdown",
   "metadata": {},
   "source": [
    "Both accuracy and log loss are not ideal for an unbalanced data set. This is so as with the huge imbalance in the data set (large amount of label 1), it is more likely for the model to predict that a sample is of type 1, which may skew accuracy statistics since the training accuracy would be very high since there are many samples of type 1, but the actual accuracy when used with other data may decrease if there are many samples of other types. Similarly for log loss, it is not the best metric as it weighs each type of misclassification equally (Nowling, 2016). In this case, as there are a large number of type 1 music samples in the training data, even if hypothetically all other samples were wrongly predicted as type 1, the log loss would still be low due to the low number of non-type 1 samples. Thus, accuracy and log loss, on their own, are not ideal for measuring the performance of the classifier.\n",
    "\n",
    "To counteract this problem as mentioned in section 3, we took into account the sample weights when computing the accuracy and log loss measures. This means that correct identification of type 1 samples will be given a lower weightage than correct identification of samples of other types in the case of accuracy, while misclassifying a sample as type 1 is given more weightage in the case of log loss. This helps to combat the inherent problems of using log loss and accuracy for an imbalanced data set. \n",
    "\n",
    "Through this study, we were able to determine the best logistic regression model to determine the genre of music, which turned out to be the liblinear classifier with l1 penalty. However, there is still much work to be done. There are many other machine learning methods such as neural networks that are not explored in this project, and which may perform better than logistic regression for this particular task.\n",
    "\n"
   ]
  },
  {
   "cell_type": "markdown",
   "metadata": {},
   "source": [
    "## 6. References"
   ]
  },
  {
   "cell_type": "markdown",
   "metadata": {},
   "source": [
    "Bahuleyan, H. (2018). Music Genre Classification using Machine Learning Techniques. Retrieved from https://arxiv.org/pdf/1804.01149.pdf. \n",
    "\n",
    "Nowling, R. (2016, August 26). Pitfalls When Working With Imbalanced Data Sets. Retrieved October 30, 2018, from http://rnowling.github.io/data/science/2016/08/26/imbalanced-dataset-pitfalls.html "
   ]
  }
 ],
 "metadata": {
  "kernelspec": {
   "display_name": "Python 3",
   "language": "python",
   "name": "python3"
  },
  "language_info": {
   "codemirror_mode": {
    "name": "ipython",
    "version": 3
   },
   "file_extension": ".py",
   "mimetype": "text/x-python",
   "name": "python",
   "nbconvert_exporter": "python",
   "pygments_lexer": "ipython3",
   "version": "3.6.5"
  }
 },
 "nbformat": 4,
 "nbformat_minor": 2
}
