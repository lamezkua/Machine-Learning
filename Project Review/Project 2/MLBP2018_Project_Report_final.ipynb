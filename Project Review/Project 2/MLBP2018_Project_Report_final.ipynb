{
 "cells": [
  {
   "cell_type": "markdown",
   "metadata": {
    "colab_type": "text",
    "id": "zjcIRofCxY9E"
   },
   "source": [
    "**Machine Learning Basic Principles 2018 - Data Analysis Project Report**"
   ]
  },
  {
   "cell_type": "markdown",
   "metadata": {
    "colab_type": "text",
    "id": "4FowJuDrxY9G"
   },
   "source": [
    "# A deep neural network model optimized for classifying a predefined limited set of samples"
   ]
  },
  {
   "cell_type": "markdown",
   "metadata": {
    "colab_type": "text",
    "id": "-h77zr81xY9H"
   },
   "source": [
    "## Abstract"
   ]
  },
  {
   "cell_type": "markdown",
   "metadata": {
    "colab_type": "text",
    "id": "nduct2n4xY9I"
   },
   "source": [
    "Over the recent increase in the availability of free data and processing power, more application areas have become available for implementing machine learning even in layman's resources. in this project, we experimented with implementing a classifier for recognizing music genres within the given data set. Although many out-of-the-box solutions exist, was this project more about implementing a classifier highly optimized for this problem and set of data. The imbalance of the categories found in given data, as well as limited training samples, added more challenge to the implementation. We tested several classifiers and implemented a deep neural network model for the genre classification. The model was then evaluated with training set, as well as with unseen data in Kaggle competition. Although the final performance of the model was mediocre at best, the process of model selection and tuning was extensive and is presented in this report, and we hope it helps others to avoid some mistakes in the future. "
   ]
  },
  {
   "cell_type": "markdown",
   "metadata": {
    "colab_type": "text",
    "id": "aDFEB-zMxY9J"
   },
   "source": [
    "## 1. Introduction"
   ]
  },
  {
   "cell_type": "markdown",
   "metadata": {
    "colab_type": "text",
    "id": "FwJoErkB7vX0"
   },
   "source": [
    "The data analysis projects goal was to design a complete machine learning solution for identifying different music genres from songs. Recognition of different music genres with machine learning algorithms is challenging. The project encouraged to try different machine learning methods to solve a real-life problem. Some of the methods have been introduced during the course but in this project, we also tried a wide range of different classification methods.\n",
    "\n",
    "In the project, our motivation was to learn to understand the dataset and try different machine learning methods for obtaining a precise model. While doing the project we understood how important data preprocessing is to prevent overfitting happening. During the project, we tried multiple different classifiers and many of them gave only decent results. Finding a correct and stable classifier for the problem was challenging.\n",
    "\n",
    "In the second chapter, we introduce the given data for the project. The third chapter is related to introducing methods and experiments that we used to acquire a satisfying model. The fourth chapter is about the results that we got with our most precise model and in the last chapter we present the conclusions.\n",
    "\n",
    "#### Acknowledgements\n",
    "As our implementation of the model is highly dependent on external libraries and scripts in separate python files, we do not suggest executing the notebook. We have included the source code used in the project and it can be found in the appendix. These are, however, only a collection of the most important files and we do not guarantee the successful execution of them. However, the cells should be executable if required external PyPi packages are installed and the data files are found in data path defined in `DataHandle.__init__()`, save the last two cells in section 4, which require the predictions from the model in the file. These are not provided as we did not see reason for including them.\n",
    "\n"
   ]
  },
  {
   "cell_type": "markdown",
   "metadata": {
    "colab_type": "text",
    "id": "xDy8FmM1xY9K"
   },
   "source": [
    "## 2. Data"
   ]
  },
  {
   "cell_type": "code",
   "execution_count": 12,
   "metadata": {
    "colab": {},
    "colab_type": "code",
    "id": "6iUGcyLrpg-d"
   },
   "outputs": [],
   "source": [
    "import numpy as np\n",
    "import pandas as pd\n",
    "import scipy as sp\n",
    "import importlib\n",
    "import itertools\n",
    "import time\n",
    "\n",
    "import matplotlib\n",
    "import matplotlib.pyplot as plt\n",
    "matplotlib.rcParams['figure.figsize'] = [10, 10]\n",
    "%matplotlib inline\n",
    "\n",
    "from IPython.display import display, Markdown\n",
    "import ipywidgets as widgets\n",
    "from ipywidgets import IntProgress"
   ]
  },
  {
   "cell_type": "markdown",
   "metadata": {
    "colab_type": "text",
    "id": "9RwStG8ZFo-n"
   },
   "source": [
    "## 2.1 Data analysis"
   ]
  },
  {
   "cell_type": "markdown",
   "metadata": {
    "colab_type": "text",
    "id": "kfiYn0ZLF7is"
   },
   "source": [
    "For the project, we obtained training and testing data. Testing data consist from 4363 labeled songs and the test data from 6544 unlabeled songs. There are songs from 10 different genres and the songs have 264 features which are composed of timbre, pitch and, rhythm. These three components of music can be described with rhythm pattern, chroma and Mel Frequency Cepstral Coefficients (MFCC). Feature vector contains 168 values for of rhythm pattern, 48 values for chroma and 48 values for MFCCs. \n",
    "\n",
    "List of different genres in the dataset with label number:\n",
    "\n",
    "1. Pop_Rock\n",
    "\n",
    "2. Electronic\n",
    "\n",
    "3. Rap\n",
    "\n",
    "4. Jazz\n",
    "\n",
    "5. Latin\n",
    "\n",
    "6. RnB\n",
    "\n",
    "7. International\n",
    "\n",
    "8. Country\n",
    "\n",
    "9. Reggae\n",
    "\n",
    "10. Blues\n",
    "\n",
    "\n",
    "When creating the variables, we assume the following structure of the given feature vectors\n",
    "\n",
    "*Table 1: Feature vector breakdown:*\n",
    "\n",
    "mean | median | var | kurt | skew | min | max | mean | std | min | max | mean | std | min | max\n",
    "--- | --- | --- | --- | --- | --- | --- | --- | --- | --- | --- | --- | --- | --- | ---\n",
    "Rhythm | Rhythm | Rhythm | Rhythm | Rhythm | Rhythm | Rhythm | Chroma | Chroma | Chroma | Chroma | MFCCs | MFCCs | MFCCs | MFCCs\n",
    "0-23 | 24-47 | 48-71 | 72-95 | 96-119 | 120-143 | 144-167 | 168-179 | 180-191 | 192-203 | 204-215 | 216-227 | 228-239 | 240-251 | 252-263\n",
    "\n",
    "We assigned feature labels for each feature based on these definitions. This was to ease the analysis and development later.\n"
   ]
  },
  {
   "cell_type": "markdown",
   "metadata": {
    "colab_type": "text",
    "id": "1ozcjRYRqob8"
   },
   "source": [
    "As we would require repetitive loading of the data, we implemented a class for handling the data. the source can be found in Appendix A1."
   ]
  },
  {
   "cell_type": "code",
   "execution_count": 3,
   "metadata": {
    "colab": {},
    "colab_type": "code",
    "id": "VTAXGW_Lpt0p"
   },
   "outputs": [
    {
     "name": "stdout",
     "output_type": "stream",
     "text": [
      "0 10\n",
      "(6544,) (6544, 264)\n"
     ]
    }
   ],
   "source": [
    "# Init the DataHandle\n",
    "dataHandle = DataHandle()\n",
    "# Load labeled data:\n",
    "d_train = dataHandle.load_train_data(\n",
    "    labels=True, feature_labels=True,\n",
    "    normalise=False, balanced=False)\n",
    "# Load unlabeled data:\n",
    "d_test = dataHandle.load_test_data(\n",
    "    labels=True, feature_labels=True, \n",
    "    normalise=False)\n",
    "# Form a DataFrame with both labeled and unlabeled data:\n",
    "data = pd.concat([d_train, d_test])"
   ]
  },
  {
   "cell_type": "markdown",
   "metadata": {
    "colab_type": "text",
    "id": "WgkzGAbQqgac"
   },
   "source": [
    "#### 2.1.1 Label distribution"
   ]
  },
  {
   "cell_type": "code",
   "execution_count": 4,
   "metadata": {
    "colab": {},
    "colab_type": "code",
    "id": "bx2OZRWJqgjO"
   },
   "outputs": [
    {
     "data": {
      "image/png": "[encoded data removed]",
      "text/plain": [
       "<Figure size 432x288 with 1 Axes>"
      ]
     },
     "metadata": {
      "needs_background": "light"
     },
     "output_type": "display_data"
    }
   ],
   "source": [
    "plt.hist(d_train.Label), plt.title('Label distribution for labeled data')\n",
    "plt.show()"
   ]
  },
  {
   "cell_type": "markdown",
   "metadata": {
    "colab_type": "text",
    "id": "0iCTdRfdqA-_"
   },
   "source": [
    "---\n",
    "#### 2.1.2  Feature inspection"
   ]
  },
  {
   "cell_type": "code",
   "execution_count": 5,
   "metadata": {
    "colab": {},
    "colab_type": "code",
    "id": "1J4EFBgfptgj"
   },
   "outputs": [
    {
     "data": {
      "text/markdown": [
       "### Rhythm bands"
      ],
      "text/plain": [
       "<IPython.core.display.Markdown object>"
      ]
     },
     "metadata": {},
     "output_type": "display_data"
    },
    {
     "data": {
      "image/png": "[encoded data removed]",
      "text/plain": [
       "<Figure size 1080x864 with 7 Axes>"
      ]
     },
     "metadata": {
      "needs_background": "light"
     },
     "output_type": "display_data"
    }
   ],
   "source": [
    "# Rhythm\n",
    "display(Markdown('### Rhythm bands'))\n",
    "plt.figure(1, figsize=(15,12))\n",
    "for p, s_type in enumerate(dataHandle.R_types):\n",
    "    plt.subplot(3,3,p+1)\n",
    "    for i in range(dataHandle.R_bands):\n",
    "        plt.hist(data['R_'+s_type+'_'+str(i)], alpha=0.2)\n",
    "        plt.ylabel('Count'), plt.xlabel('Value')\n",
    "        plt.title('Rhythm '+s_type)\n",
    "plt.tight_layout()\n",
    "plt.show()"
   ]
  },
  {
   "cell_type": "code",
   "execution_count": 6,
   "metadata": {
    "colab": {},
    "colab_type": "code",
    "id": "Md7dDxDjptQd"
   },
   "outputs": [
    {
     "data": {
      "image/png": "[encoded data removed]",
      "text/plain": [
       "<Figure size 1080x720 with 4 Axes>"
      ]
     },
     "metadata": {
      "needs_background": "light"
     },
     "output_type": "display_data"
    }
   ],
   "source": [
    "# Chroma bands\n",
    "plt.figure(1, figsize=(15,10))\n",
    "for p, s_type in enumerate(dataHandle.C_types):\n",
    "    plt.subplot(2,2,p+1)\n",
    "    for i in range(1,11):\n",
    "        plt.hist(data['C_'+s_type+'_'+str(i)], alpha=0.2)\n",
    "        plt.ylabel('Count'), plt.xlabel('Value')\n",
    "        plt.title('Chroma '+s_type)\n",
    "plt.tight_layout()\n",
    "plt.show()"
   ]
  },
  {
   "cell_type": "code",
   "execution_count": 7,
   "metadata": {
    "colab": {},
    "colab_type": "code",
    "id": "WJ-w-n8xp3QU"
   },
   "outputs": [
    {
     "data": {
      "image/png": "[encoded data removed]",
      "text/plain": [
       "<Figure size 1080x720 with 4 Axes>"
      ]
     },
     "metadata": {
      "needs_background": "light"
     },
     "output_type": "display_data"
    }
   ],
   "source": [
    "# MFCCs\n",
    "plt.figure(1, figsize=(15,10))\n",
    "for p, s_type in enumerate(dataHandle.M_types):\n",
    "    plt.subplot(2,2,p+1)\n",
    "    for i in range(dataHandle.M_coefs):\n",
    "        plt.hist(data['M_'+s_type+'_'+str(i)], alpha=0.2)\n",
    "        plt.ylabel('Count'), plt.xlabel('Value')\n",
    "        plt.title('MFCCs '+s_type)\n",
    "plt.tight_layout()\n",
    "plt.show()"
   ]
  },
  {
   "cell_type": "markdown",
   "metadata": {},
   "source": [
    "The MFCCs mean is not showing anything, inspect the couple first columns:"
   ]
  },
  {
   "cell_type": "code",
   "execution_count": 8,
   "metadata": {
    "colab": {},
    "colab_type": "code",
    "id": "fl2yCl7gp6nE"
   },
   "outputs": [
    {
     "data": {
      "text/html": [
       "<div>\n",
       "<style scoped>\n",
       "    .dataframe tbody tr th:only-of-type {\n",
       "        vertical-align: middle;\n",
       "    }\n",
       "\n",
       "    .dataframe tbody tr th {\n",
       "        vertical-align: top;\n",
       "    }\n",
       "\n",
       "    .dataframe thead th {\n",
       "        text-align: right;\n",
       "    }\n",
       "</style>\n",
       "<table border=\"1\" class=\"dataframe\">\n",
       "  <thead>\n",
       "    <tr style=\"text-align: right;\">\n",
       "      <th></th>\n",
       "      <th>M_mean_0</th>\n",
       "      <th>M_mean_1</th>\n",
       "      <th>M_mean_2</th>\n",
       "      <th>M_mean_3</th>\n",
       "      <th>M_mean_4</th>\n",
       "      <th>M_mean_5</th>\n",
       "      <th>M_mean_6</th>\n",
       "      <th>M_mean_7</th>\n",
       "      <th>M_mean_8</th>\n",
       "      <th>M_mean_9</th>\n",
       "      <th>M_mean_10</th>\n",
       "      <th>M_mean_11</th>\n",
       "    </tr>\n",
       "  </thead>\n",
       "  <tbody>\n",
       "    <tr>\n",
       "      <th>0</th>\n",
       "      <td>1000000.0</td>\n",
       "      <td>1000000.0</td>\n",
       "      <td>1000000.0</td>\n",
       "      <td>1000000.0</td>\n",
       "      <td>0.001894</td>\n",
       "      <td>-0.002000</td>\n",
       "      <td>0.001301</td>\n",
       "      <td>0.001159</td>\n",
       "      <td>-0.006528</td>\n",
       "      <td>-0.001903</td>\n",
       "      <td>0.001681</td>\n",
       "      <td>0.009920</td>\n",
       "    </tr>\n",
       "    <tr>\n",
       "      <th>1</th>\n",
       "      <td>1000000.0</td>\n",
       "      <td>1000000.0</td>\n",
       "      <td>1000000.0</td>\n",
       "      <td>1000000.0</td>\n",
       "      <td>-0.002680</td>\n",
       "      <td>-0.027749</td>\n",
       "      <td>0.027858</td>\n",
       "      <td>0.002513</td>\n",
       "      <td>0.014589</td>\n",
       "      <td>0.007545</td>\n",
       "      <td>-0.002405</td>\n",
       "      <td>0.015146</td>\n",
       "    </tr>\n",
       "    <tr>\n",
       "      <th>2</th>\n",
       "      <td>1000000.0</td>\n",
       "      <td>1000000.0</td>\n",
       "      <td>1000000.0</td>\n",
       "      <td>1000000.0</td>\n",
       "      <td>-0.001637</td>\n",
       "      <td>0.006803</td>\n",
       "      <td>-0.001520</td>\n",
       "      <td>-0.006899</td>\n",
       "      <td>0.001273</td>\n",
       "      <td>-0.006530</td>\n",
       "      <td>-0.000797</td>\n",
       "      <td>-0.001442</td>\n",
       "    </tr>\n",
       "    <tr>\n",
       "      <th>3</th>\n",
       "      <td>1000000.0</td>\n",
       "      <td>1000000.0</td>\n",
       "      <td>1000000.0</td>\n",
       "      <td>1000000.0</td>\n",
       "      <td>-0.026825</td>\n",
       "      <td>-0.023088</td>\n",
       "      <td>-0.003284</td>\n",
       "      <td>-0.003447</td>\n",
       "      <td>-0.004121</td>\n",
       "      <td>0.002818</td>\n",
       "      <td>0.001818</td>\n",
       "      <td>-0.002063</td>\n",
       "    </tr>\n",
       "    <tr>\n",
       "      <th>4</th>\n",
       "      <td>1000000.0</td>\n",
       "      <td>1000000.0</td>\n",
       "      <td>1000000.0</td>\n",
       "      <td>1000000.0</td>\n",
       "      <td>-0.014689</td>\n",
       "      <td>-0.022217</td>\n",
       "      <td>-0.009048</td>\n",
       "      <td>0.001094</td>\n",
       "      <td>0.016120</td>\n",
       "      <td>0.004603</td>\n",
       "      <td>0.000799</td>\n",
       "      <td>0.009655</td>\n",
       "    </tr>\n",
       "  </tbody>\n",
       "</table>\n",
       "</div>"
      ],
      "text/plain": [
       "    M_mean_0   M_mean_1   M_mean_2   M_mean_3  M_mean_4  M_mean_5  M_mean_6  \\\n",
       "0  1000000.0  1000000.0  1000000.0  1000000.0  0.001894 -0.002000  0.001301   \n",
       "1  1000000.0  1000000.0  1000000.0  1000000.0 -0.002680 -0.027749  0.027858   \n",
       "2  1000000.0  1000000.0  1000000.0  1000000.0 -0.001637  0.006803 -0.001520   \n",
       "3  1000000.0  1000000.0  1000000.0  1000000.0 -0.026825 -0.023088 -0.003284   \n",
       "4  1000000.0  1000000.0  1000000.0  1000000.0 -0.014689 -0.022217 -0.009048   \n",
       "\n",
       "   M_mean_7  M_mean_8  M_mean_9  M_mean_10  M_mean_11  \n",
       "0  0.001159 -0.006528 -0.001903   0.001681   0.009920  \n",
       "1  0.002513  0.014589  0.007545  -0.002405   0.015146  \n",
       "2 -0.006899  0.001273 -0.006530  -0.000797  -0.001442  \n",
       "3 -0.003447 -0.004121  0.002818   0.001818  -0.002063  \n",
       "4  0.001094  0.016120  0.004603   0.000799   0.009655  "
      ]
     },
     "execution_count": 8,
     "metadata": {},
     "output_type": "execute_result"
    }
   ],
   "source": [
    "data.loc[:, 'M_mean_0':'M_mean_11'].head()"
   ]
  },
  {
   "cell_type": "code",
   "execution_count": 10,
   "metadata": {
    "colab": {},
    "colab_type": "code",
    "id": "mKt3D1cwqLq9"
   },
   "outputs": [
    {
     "data": {
      "image/png": "[encoded data removed]",
      "text/plain": [
       "<Figure size 1080x720 with 4 Axes>"
      ]
     },
     "metadata": {
      "needs_background": "light"
     },
     "output_type": "display_data"
    }
   ],
   "source": [
    "# Repeaet the MFCCs plot with assumed anomalies removed\n",
    "plt.figure(1, figsize=(15,10))\n",
    "for p, s_type in enumerate(dataHandle.M_types):\n",
    "    plt.subplot(2,2,p+1)\n",
    "    for i in range(dataHandle.M_coefs):\n",
    "        tag = 'M_'+s_type+'_'+str(i)\n",
    "        # Skip features which are anomalies (based on analysis notebook)\n",
    "        if tag in ['M_mean_0', 'M_mean_1', 'M_mean_2', 'M_mean_3']:\n",
    "            continue\n",
    "        plt.hist(data[tag], alpha=0.2)\n",
    "        plt.ylabel('Count'), plt.xlabel('Value')\n",
    "        plt.title('MFCCs '+s_type)\n",
    "plt.tight_layout()\n",
    "plt.show()\n"
   ]
  },
  {
   "cell_type": "markdown",
   "metadata": {
    "colab_type": "text",
    "id": "8x1r3ykwqGQ8"
   },
   "source": [
    "#### 2.1.3 Scatter inspection\n"
   ]
  },
  {
   "cell_type": "code",
   "execution_count": 13,
   "metadata": {
    "colab": {},
    "colab_type": "code",
    "id": "eOJfp2-9taR_"
   },
   "outputs": [],
   "source": [
    "lbls_for = dataHandle.labels_for\n",
    "R_train = d_train.loc[:, d_train.columns.isin(list(itertools.chain(*dataHandle.R_type_labels.values())))]\n",
    "R_test = d_test.loc[:, d_test.columns.isin(list(itertools.chain(*dataHandle.R_type_labels.values())))]\n",
    "\n",
    "R_mean_train = R_train.loc[:, R_train.columns.isin(lbls_for('R', 'mean'))].values.tolist()\n",
    "R_mean_test  = R_test.loc[:, R_test.columns.isin(lbls_for('R', 'mean'))].values.tolist()\n",
    "R_med_train  = R_train.loc[:, R_train.columns.isin(lbls_for('R', 'median'))].values.tolist()\n",
    "R_med_test   = R_test.loc[:, R_test.columns.isin(lbls_for('R', 'median'))].values.tolist()\n",
    "R_var_train  = R_train.loc[:, R_train.columns.isin(lbls_for('R', 'var'))].values.tolist()\n",
    "R_var_test   = R_test.loc[:, R_test.columns.isin(lbls_for('R', 'var'))].values.tolist()\n",
    "R_kurt_train = R_train.loc[:, R_train.columns.isin(lbls_for('R', 'kurt'))].values.tolist()\n",
    "R_kurt_test  = R_test.loc[:, R_test.columns.isin(lbls_for('R', 'kurt'))].values.tolist()\n",
    "R_min_train  = R_train.loc[:, R_train.columns.isin(lbls_for('R', 'min'))].values.tolist()\n",
    "R_min_test   = R_test.loc[:, R_test.columns.isin(lbls_for('R', 'min'))].values.tolist()\n",
    "R_max_train  = R_train.loc[:, R_train.columns.isin(lbls_for('R', 'max'))].values.tolist()\n",
    "R_max_test   = R_test.loc[:, R_test.columns.isin(lbls_for('R', 'max'))].values.tolist()\n",
    "R_skew_train = R_train.loc[:, R_train.columns.isin(lbls_for('R', 'skew'))].values.tolist()\n",
    "R_skew_test  = R_test.loc[:, R_test.columns.isin(lbls_for('R', 'skew'))].values.tolist()\n",
    "\n",
    "C_train = d_train.loc[:, d_train.columns.isin(list(itertools.chain(*dataHandle.C_type_labels.values())))]\n",
    "C_test = d_test.loc[:, d_test.columns.isin(list(itertools.chain(*dataHandle.C_type_labels.values())))]\n",
    "\n",
    "C_mean_train = C_train.loc[:, C_train.columns.isin(lbls_for('C', 'mean'))].values.tolist()\n",
    "C_mean_test  = C_test.loc[:, C_test.columns.isin(lbls_for('C', 'mean'))].values.tolist()\n",
    "C_sd_train   = C_train.loc[:, C_train.columns.isin(lbls_for('C', 'std'))].values.tolist()\n",
    "C_sd_test    = C_test.loc[:, C_test.columns.isin(lbls_for('C', 'std'))].values.tolist()\n",
    "C_min_train  = C_train.loc[:, C_train.columns.isin(lbls_for('C', 'min'))].values.tolist()\n",
    "C_min_test   = C_test.loc[:, C_test.columns.isin(lbls_for('C', 'min'))].values.tolist()\n",
    "C_max_train  = C_train.loc[:, C_train.columns.isin(lbls_for('C', 'max'))].values.tolist()\n",
    "C_max_test   = C_test.loc[:, C_test.columns.isin(lbls_for('C', 'max'))].values.tolist()\n",
    "\n",
    "M_train = d_train.loc[:, d_train.columns.isin(list(itertools.chain(*dataHandle.M_type_labels.values())))]\n",
    "M_test = d_test.loc[:, d_test.columns.isin(list(itertools.chain(*dataHandle.M_type_labels.values())))]\n",
    "\n",
    "M_mean_train = M_train.loc[:, M_train.columns.isin(lbls_for('M', 'mean'))].values.tolist()\n",
    "M_mean_test  = M_test.loc[:, M_test.columns.isin(lbls_for('M', 'mean'))].values.tolist()\n",
    "M_sd_train   = M_train.loc[:, M_train.columns.isin(lbls_for('M', 'std'))].values.tolist()\n",
    "M_sd_test    = M_test.loc[:, M_test.columns.isin(lbls_for('M', 'std'))].values.tolist()\n",
    "M_min_train  = M_train.loc[:, M_train.columns.isin(lbls_for('M', 'min'))].values.tolist()\n",
    "M_min_test   = M_test.loc[:, M_test.columns.isin(lbls_for('M', 'min'))].values.tolist()\n",
    "M_max_train  = M_train.loc[:, M_train.columns.isin(lbls_for('M', 'max'))].values.tolist()\n",
    "M_max_test   = M_test.loc[:, M_test.columns.isin(lbls_for('M', 'max'))].values.tolist()\n",
    "\n",
    "def text_minmax(b1, b2, tagb, r1, r2, tagr):\n",
    "    \"\"\" Plot the two datas in black and red, higlight largest and smallest of sets \"\"\"\n",
    "    sb1, sb2, lb1, lb2 = np.min(b1), np.min(b2), np.max(b1), np.max(b2)\n",
    "    sr1, sr2, lr1, lr2 = np.min(r1), np.min(r2), np.max(r1), np.max(r2)\n",
    "    print(f'{tagb} mins: {sb1}, {sb2}\\n{tagb} maxs: {lb1}, {lb2}\\n{tagr} mins: {sr1}, {sr2}\\n{tagr} maxs: {lr1}, {lr2}')"
   ]
  },
  {
   "cell_type": "markdown",
   "metadata": {
    "colab_type": "text",
    "id": "LgA1ocVptfkT"
   },
   "source": [
    "**Rhythm**"
   ]
  },
  {
   "cell_type": "code",
   "execution_count": 14,
   "metadata": {
    "colab": {},
    "colab_type": "code",
    "id": "OQ_h2RLQtabf"
   },
   "outputs": [
    {
     "name": "stdout",
     "output_type": "stream",
     "text": [
      "mean mins: 1.0659999999999998, 1.0659999999999998\n",
      "mean maxs: 15682.0, 14008.0\n",
      "med mins: 0.0, 0.0\n",
      "med maxs: 34783.0, 30418.0\n",
      "var mins: -1573.8, -1687.8\n",
      "var maxs: 20544.0, 22423.0\n",
      "kurt mins: 1000.0, 1000.0\n",
      "kurt maxs: 442280.0, 505300.0\n",
      "min mins: 1.0659999999999998, 1.0659999999999998\n",
      "min maxs: 8544.2, 7861.9\n",
      "max mins: 1.0659999999999998, 1.0659999999999998\n",
      "max maxs: 31604.0, 31465.0\n",
      "skew mins: 1.0659999999999998, 1.0659999999999998\n",
      "skew maxs: 15880.0, 13909.0\n",
      "var mins: -1573.8, -1687.8\n",
      "var maxs: 20544.0, 22423.0\n"
     ]
    },
    {
     "data": {
      "image/png": "[encoded data removed]",
      "text/plain": [
       "<Figure size 1152x1152 with 4 Axes>"
      ]
     },
     "metadata": {
      "needs_background": "light"
     },
     "output_type": "display_data"
    }
   ],
   "source": [
    "# Rhythm:\n",
    "plt.figure(figsize=(16,16))\n",
    "plt.subplot(221), plt.title('mean - median'), plt.xlabel('mean'), plt.ylabel('median')\n",
    "plt.scatter(R_mean_test, R_med_test, c='k')\n",
    "plt.scatter(R_mean_train, R_med_train, c='r')\n",
    "text_minmax(R_mean_test, R_mean_train, 'mean', R_med_test, R_med_train, 'med')\n",
    "\n",
    "plt.subplot(222), plt.title('variance - kurtosis'), plt.xlabel('variance'), plt.ylabel('kurtosis')\n",
    "plt.scatter(R_var_test, R_kurt_test, c='k')\n",
    "plt.scatter(R_var_train, R_kurt_train, c='r')\n",
    "text_minmax(R_var_test, R_var_train, 'var', R_kurt_test, R_kurt_train, 'kurt')\n",
    "\n",
    "plt.subplot(223), plt.title('min - max'), plt.xlabel('min'), plt.ylabel('max')\n",
    "plt.scatter(R_min_test, R_max_test, c='k')\n",
    "plt.scatter(R_min_train, R_max_train, c='r')\n",
    "text_minmax(R_min_test, R_min_train, 'min', R_max_test, R_max_train, 'max')\n",
    "\n",
    "plt.subplot(224), plt.title('skewness - variance'), plt.xlabel('skewness'), plt.ylabel('variance')\n",
    "plt.scatter(R_skew_test, R_var_test, c='k')\n",
    "plt.scatter(R_skew_train, R_var_train, c='r')\n",
    "text_minmax(R_skew_test, R_skew_train, 'skew', R_var_test, R_var_train, 'var')\n",
    "plt.show()"
   ]
  },
  {
   "cell_type": "markdown",
   "metadata": {
    "colab_type": "text",
    "id": "fsxxl-1rnhnW"
   },
   "source": [
    "The scatters are relatively nice. We decided to cap the mean, median, variance and curtosis a bit."
   ]
  },
  {
   "cell_type": "markdown",
   "metadata": {
    "colab_type": "text",
    "id": "AaYJ964ztjiM"
   },
   "source": [
    "**Chroma**"
   ]
  },
  {
   "cell_type": "code",
   "execution_count": 15,
   "metadata": {
    "colab": {},
    "colab_type": "code",
    "id": "C42-RW1LtalQ"
   },
   "outputs": [
    {
     "name": "stdout",
     "output_type": "stream",
     "text": [
      "mean mins: 0.013947, 0.019899\n",
      "mean maxs: 0.99916, 0.98713\n",
      "sd mins: 3.9855e-05, 0.0008657999999999999\n",
      "sd maxs: 0.21914, 0.21398000000000003\n",
      "min mins: 0.0, 0.0\n",
      "min maxs: 0.601, 0.9129999999999999\n",
      "max mins: 0.18600000000000003, 0.17\n",
      "max maxs: 1.0, 1.0\n"
     ]
    },
    {
     "data": {
      "image/png": "[encoded data removed]",
      "text/plain": [
       "<Figure size 1152x576 with 2 Axes>"
      ]
     },
     "metadata": {
      "needs_background": "light"
     },
     "output_type": "display_data"
    }
   ],
   "source": [
    "# Chroma\n",
    "plt.figure(figsize=(16,8))\n",
    "plt.subplot(121), plt.title('mean - sd'), plt.xlabel('mean'), plt.ylabel('sd')\n",
    "plt.scatter(C_mean_test, C_sd_test, c='k')\n",
    "plt.scatter(C_mean_train, C_sd_train, c='r')\n",
    "text_minmax(C_mean_test, C_mean_train, 'mean', C_sd_test, C_sd_train, 'sd')\n",
    "\n",
    "plt.subplot(122), plt.title('min - max'), plt.xlabel('min'), plt.ylabel('max')\n",
    "plt.scatter(C_min_test, C_max_test, c='k')\n",
    "plt.scatter(C_min_train, C_max_train, c='r')\n",
    "text_minmax(C_min_train, C_min_test, 'min', C_max_train, C_max_test, 'max')\n",
    "plt.show()"
   ]
  },
  {
   "cell_type": "markdown",
   "metadata": {
    "colab_type": "text",
    "id": "3TlbLKhynrCD"
   },
   "source": [
    "As with Rhythm, the Chroma distributions are nicely condense and decided not to limit any of the variables."
   ]
  },
  {
   "cell_type": "markdown",
   "metadata": {
    "colab_type": "text",
    "id": "hSN5HTmLtob4"
   },
   "source": [
    "**MFCCs**"
   ]
  },
  {
   "cell_type": "code",
   "execution_count": 16,
   "metadata": {
    "colab": {},
    "colab_type": "code",
    "id": "-qUlEkMQtavL"
   },
   "outputs": [
    {
     "name": "stdout",
     "output_type": "stream",
     "text": [
      "mean mins: -0.10919000000000001, -0.11135999999999999\n",
      "mean maxs: 0.10725, 0.1619\n",
      "sd mins: 0.015074, 0.023749\n",
      "sd maxs: 12.436, 6.9195\n",
      "min mins: -0.25815, -0.29402\n",
      "min maxs: 0.058660000000000004, 0.086453\n",
      "max mins: -0.046172000000000005, -0.03128\n",
      "max maxs: 0.35241, 0.34847\n"
     ]
    },
    {
     "data": {
      "image/png": "[encoded data removed]",
      "text/plain": [
       "<Figure size 1152x576 with 2 Axes>"
      ]
     },
     "metadata": {
      "needs_background": "light"
     },
     "output_type": "display_data"
    }
   ],
   "source": [
    "# MFCCs\n",
    "plt.figure(figsize=(16,8))\n",
    "plt.subplot(121), plt.title('mean - sd'), plt.xlabel('mean'), plt.ylabel('sd')\n",
    "plt.scatter(M_mean_test, M_sd_test, c='k')\n",
    "plt.scatter(M_mean_train, M_sd_train, c='r')\n",
    "text_minmax(M_mean_test, M_mean_train, 'mean', M_sd_test, M_sd_train, 'sd')\n",
    "\n",
    "plt.subplot(122), plt.title('min - max'), plt.xlabel('min'), plt.ylabel('max')\n",
    "plt.scatter(M_min_train, M_max_train, c='r')\n",
    "plt.scatter(M_min_test, M_max_test, c='k')\n",
    "text_minmax(M_min_train, M_min_test, 'min', M_max_train, M_max_test, 'max')\n",
    "plt.show()"
   ]
  },
  {
   "cell_type": "markdown",
   "metadata": {
    "colab_type": "text",
    "id": "ebFrZZCan1LJ"
   },
   "source": [
    "With the MFCCs, however, we can see the definite outlier in standard deviation. We removed that by capping the standard deviation of MFCCs (for all coefficeints) to 6."
   ]
  },
  {
   "cell_type": "markdown",
   "metadata": {},
   "source": [
    "#### 2.1.4 Class inspection\n",
    "We also analysed the data with simple pair-wise plots for some obvious definitions between the classes. The cells would ahve been too complicated to add here, but an example is provided in Video 1. The conclusion from this analysis was, that the data was so complex dimension wise, that it could not be effectively classified with simple linear regression.\n",
    "\n",
    "![](https://image.ibb.co/mkW7V0/classes.gif)"
   ]
  },
  {
   "cell_type": "markdown",
   "metadata": {
    "colab_type": "text",
    "id": "6uAaoHLwUyXB"
   },
   "source": [
    "## 2.2 Data preprocessing\n",
    "As seen in section 2.1, the data needed some preprocessing. Most of the classifier models require, or perform better with normalized values. Moreover, the possible anomalies might distort the model.\n",
    "\n",
    "To ensure the best fit, we cleaned the both labeled and unlabeled data based on the analysis on section 2.1. We started by removing the first four coefficient features for MFCCs mean statistic as they contained no information. Next, we removed the detected outliers by capping the maximum and minimum values to the ranges presented in section 2.1.2 This way we lost no information or samples. The selected lower and upper bounds were selected as:\n",
    "\n",
    "```json\n",
    "        caps = {\n",
    "            'Rhythm': {\n",
    "                'mean': (1, 14500),\n",
    "                'median': (0, 30000),\n",
    "                'kurt': (1000, 500000),\n",
    "                'skew': (1, 15000),\n",
    "                'min': (1, 8000),\n",
    "                'max': (1, 31500),\n",
    "                'var': (-2000, 20000)\n",
    "            },\n",
    "            'Chroma': {\n",
    "                'mean': (0, 1),\n",
    "                'std': (0, 1),\n",
    "                'min': (0, 0.6),\n",
    "                'max': (0, 1),\n",
    "            },\n",
    "            'MFCCs': {\n",
    "                'mean': (-1, 1),\n",
    "                'std': (0, 6),\n",
    "                'min': (-1, 1),\n",
    "                'max': (-1, 1),\n",
    "            }\n",
    "        }\n",
    "```\n",
    "\n",
    "Moreover, a similar transformation could be performed for any unseen data. We then normalized the values for each feature to a range [0-1] based on their maximum and minimum values feature wise.\n",
    "\n",
    "To summarise, the steps for preprocessing the data were the following:\n",
    "  1. Remove columns 216, 217, 218 and 219 (anomalies)\n",
    "  2. Remove outliers with capping\n",
    "  3. Normalize the data to a range [0-1], feature wise.\n",
    "  3. Add label `-1` for the unlabeled samples.\n",
    "  \n",
    "We then saved the clean data for labeled and unlabeled data to be later accessed with `DataHandle`. The source code for cleaning the data can be found in Appendix A1 in `DataHandle.clean_data()`"
   ]
  },
  {
   "cell_type": "markdown",
   "metadata": {
    "colab_type": "text",
    "id": "Qd4Sdwq9xY9V"
   },
   "source": [
    "## 3. Methods and experiments\n",
    "\n",
    "As shown in the section 2, the data was a relatively scarce resource. Therefore the need for good data handling methods was required. Moreover, more stress on this project was put onto the selection and tuning of the classification model. This section describes the process of data handling, as well as selecting and tuning the model. The process development can be seen in Figure 1.\n",
    "\n",
    "![](https://image.ibb.co/gh2SDL/Approach.png)\n",
    "\n",
    "*Figure 1: Process timeline*"
   ]
  },
  {
   "cell_type": "markdown",
   "metadata": {
    "colab_type": "text",
    "id": "SqxZkXtNkIUI"
   },
   "source": [
    "### 3.1 Model comparison \n",
    "One of the biggest problems in machine learning is the ambiguity of which method to use to solve the problem. Thankfully, multiple solutions are already available for generic use. To evaluate the best type of classifier for this task, we decided to test the 11 different classifier available at sklearn [1]. \n",
    "\n",
    "We used the default settings on most of the classifiers and trained them with a training and testing set extracted from the train data. We then compared their micro- and macro accuracy, and training time. The parameter changes we made to the classifiers were iterative, based on what we saw to be the best. The*accuracy* in the generated tables below describes the same accuracy as used in the Kaggle competition. The *balanced accuracy* is the accuracy weighted with the classes, and hence describes the average accuracy of the classification."
   ]
  },
  {
   "cell_type": "code",
   "execution_count": 19,
   "metadata": {
    "colab": {},
    "colab_type": "code",
    "id": "KR9fShPqxUkr"
   },
   "outputs": [],
   "source": [
    "# Evaluation:\n",
    "from sklearn.metrics import classification_report,confusion_matrix, accuracy_score, balanced_accuracy_score\n",
    "from sklearn.model_selection import train_test_split"
   ]
  },
  {
   "cell_type": "code",
   "execution_count": 20,
   "metadata": {
    "colab": {},
    "colab_type": "code",
    "id": "CEbxyO4lxXgb"
   },
   "outputs": [],
   "source": [
    "def display_metrics(tag, labels, predictions, train_time=None):\n",
    "    acc = accuracy_score(labels, predictions)\n",
    "    tail = '' if train_time is None else f', train time: {train_time}'\n",
    "    display(Markdown(f'### {tag}: accuracy: {acc}'+tail))\n",
    "    df0 = pd.DataFrame(confusion_matrix(labels,predictions))\n",
    "    df1 = pd.DataFrame.from_dict(classification_report(labels,predictions, output_dict=True), orient='index')\n",
    "    display_side_by_side(df0, df1)"
   ]
  },
  {
   "cell_type": "code",
   "execution_count": 21,
   "metadata": {
    "colab": {},
    "colab_type": "code",
    "id": "O_Yraudkw0sN"
   },
   "outputs": [],
   "source": [
    "data = dataHandle.load_clean_train_data()\n",
    "dada = dataHandle.load_clean_test_data()"
   ]
  },
  {
   "cell_type": "code",
   "execution_count": 22,
   "metadata": {
    "colab": {},
    "colab_type": "code",
    "id": "DFF3jUjaw4CY"
   },
   "outputs": [],
   "source": [
    "# =============== UNBALANCED DATA ==================\n",
    "# Training data, (labeled)\n",
    "X = data.drop('Label', axis=1)\n",
    "y = data.Label\n",
    "\n",
    "# 'Testing' data (Unlabeled)\n",
    "X_kag = dada.drop('Label', axis=1)\n",
    "y_kag = dada.Label\n",
    "\n",
    "# Concatenated data (Unlabeled labeled as -1)\n",
    "X_tot = pd.concat([X, X_kag])\n",
    "y_tot = pd.concat([y, y_kag])\n",
    "\n",
    "# Will split to X_train, X_test, y_train, y_test\n",
    "orig_splits = train_test_split(X, y, test_size=0.2, random_state=42)\n",
    "\n",
    "# Split also the ones for semi-supervised learning:\n",
    "tot_splits     = train_test_split(X_tot, y_tot, test_size=0.2, random_state=69)"
   ]
  },
  {
   "cell_type": "code",
   "execution_count": 23,
   "metadata": {
    "colab": {},
    "colab_type": "code",
    "id": "hQIyQutnxncE"
   },
   "outputs": [],
   "source": [
    "# Tested classifiers:\n",
    "from sklearn.neural_network import MLPClassifier\n",
    "from sklearn.neighbors import KNeighborsClassifier\n",
    "from sklearn.svm import SVC, LinearSVC\n",
    "from sklearn.gaussian_process.kernels import RBF\n",
    "from sklearn.tree import DecisionTreeClassifier\n",
    "from sklearn.ensemble import RandomForestClassifier, AdaBoostClassifier\n",
    "from sklearn.naive_bayes import GaussianNB\n",
    "from sklearn.discriminant_analysis import QuadraticDiscriminantAnalysis\n",
    "from sklearn.semi_supervised import LabelSpreading"
   ]
  },
  {
   "cell_type": "code",
   "execution_count": 24,
   "metadata": {
    "colab": {},
    "colab_type": "code",
    "id": "FMOEXB79w4Lf"
   },
   "outputs": [],
   "source": [
    "classifiers = {\n",
    "    \"Nearest Neighbors\": KNeighborsClassifier(10),\n",
    "    \"Linear SVM\": SVC(kernel=\"linear\", C=0.5, class_weight='balanced'),\n",
    "    \"Linear SVC\": LinearSVC(),\n",
    "    \"RBF SVM\": SVC(gamma=2, C=1, class_weight='balanced'),\n",
    "    # \"Gaussian Process\": GaussianProcessClassifier(1.0 * RBF(1.0), n_jobs=-1, n_restarts_optimizer=1),\n",
    "    \"Decision Tree\": DecisionTreeClassifier(max_depth=10),\n",
    "    \"Random Forest\": RandomForestClassifier(max_depth=10, n_estimators=10, max_features=5),\n",
    "    \"Neural Net\": MLPClassifier(alpha=0.005, learning_rate='adaptive', hidden_layer_sizes=(82,10,), max_iter=5000),\n",
    "    \"AdaBoost\": AdaBoostClassifier(),\n",
    "    \"Naive Bayes\": GaussianNB(),\n",
    "    \"QDA\": QuadraticDiscriminantAnalysis(),\n",
    "    \"Semi-supervised\": LabelSpreading(n_jobs=-1, max_iter=1000),\n",
    "}"
   ]
  },
  {
   "cell_type": "code",
   "execution_count": 25,
   "metadata": {
    "colab": {},
    "colab_type": "code",
    "id": "fz6rOeJRw4SZ"
   },
   "outputs": [],
   "source": [
    "def compare_classifiers(classifiers, data_splits,\n",
    "                        data_tot_splits=None,\n",
    "                        print_results=True, progbar=True):\n",
    "    # Iterate over classifiers\n",
    "    if progbar:\n",
    "        pb = widgets.IntProgress(value=0,min=0,max=len(classifiers),description='Training:')\n",
    "        display(pb)\n",
    "    results = {}\n",
    "    for i, (name, clf) in enumerate(iter(classifiers.items())):\n",
    "        # Select data:\n",
    "        if name == \"Semi-supervised\":\n",
    "            if data_tot_splits is None:\n",
    "                if progbar:\n",
    "                    pb.value += 1\n",
    "                continue\n",
    "            X_train, X_test, y_train, y_test = data_tot_splits\n",
    "        else:\n",
    "            X_train, X_test, y_train, y_test= data_splits\n",
    "                \n",
    "        # Train:\n",
    "        ts = time.time()\n",
    "        clf.fit(X_train, y_train)\n",
    "        tt = time.time() - ts\n",
    "        \n",
    "        # Predict:\n",
    "        preds = clf.predict(X_test)\n",
    "\n",
    "        # Print results:\n",
    "        if print_results:\n",
    "            display_metrics(name, y_test, preds, train_time=tt)\n",
    "\n",
    "        # Save results:\n",
    "        results[name] = {}\n",
    "        results[name]['accuracy'] = accuracy_score(y_test, preds)\n",
    "        results[name]['balanced accuracy'] = balanced_accuracy_score(y_test, preds)\n",
    "        results[name]['train time'] = tt\n",
    "        if progbar:\n",
    "            pb.value += 1\n",
    "    if print_results:\n",
    "        display(pd.DataFrame.from_dict(results, orient='index'))\n",
    "    # Return the results:\n",
    "    return results"
   ]
  },
  {
   "cell_type": "code",
   "execution_count": 26,
   "metadata": {
    "colab": {},
    "colab_type": "code",
    "id": "tIE0stiIw4ZX"
   },
   "outputs": [
    {
     "data": {
      "application/vnd.jupyter.widget-view+json": {
       "model_id": "ea6b4f5715974db7a02b1840ac29c39b",
       "version_major": 2,
       "version_minor": 0
      },
      "text/plain": [
       "IntProgress(value=0, description='Training:', max=11)"
      ]
     },
     "metadata": {},
     "output_type": "display_data"
    },
    {
     "name": "stderr",
     "output_type": "stream",
     "text": [
      "c:\\users\\olli\\documents\\02_school\\mlbpa_project\\py3env\\lib\\site-packages\\sklearn\\svm\\base.py:922: ConvergenceWarning: Liblinear failed to converge, increase the number of iterations.\n",
      "  \"the number of iterations.\", ConvergenceWarning)\n",
      "c:\\users\\olli\\documents\\02_school\\mlbpa_project\\py3env\\lib\\site-packages\\sklearn\\discriminant_analysis.py:686: UserWarning: Variables are collinear\n",
      "  warnings.warn(\"Variables are collinear\")\n"
     ]
    },
    {
     "data": {
      "text/html": [
       "<div>\n",
       "<style scoped>\n",
       "    .dataframe tbody tr th:only-of-type {\n",
       "        vertical-align: middle;\n",
       "    }\n",
       "\n",
       "    .dataframe tbody tr th {\n",
       "        vertical-align: top;\n",
       "    }\n",
       "\n",
       "    .dataframe thead th {\n",
       "        text-align: right;\n",
       "    }\n",
       "</style>\n",
       "<table border=\"1\" class=\"dataframe\">\n",
       "  <thead>\n",
       "    <tr style=\"text-align: right;\">\n",
       "      <th></th>\n",
       "      <th>accuracy</th>\n",
       "      <th>balanced accuracy</th>\n",
       "      <th>train time</th>\n",
       "    </tr>\n",
       "  </thead>\n",
       "  <tbody>\n",
       "    <tr>\n",
       "      <th>AdaBoost</th>\n",
       "      <td>0.533792</td>\n",
       "      <td>0.242060</td>\n",
       "      <td>12.943259</td>\n",
       "    </tr>\n",
       "    <tr>\n",
       "      <th>Decision Tree</th>\n",
       "      <td>0.501718</td>\n",
       "      <td>0.206521</td>\n",
       "      <td>2.146109</td>\n",
       "    </tr>\n",
       "    <tr>\n",
       "      <th>Linear SVC</th>\n",
       "      <td>0.663230</td>\n",
       "      <td>0.370480</td>\n",
       "      <td>26.055732</td>\n",
       "    </tr>\n",
       "    <tr>\n",
       "      <th>Linear SVM</th>\n",
       "      <td>0.514318</td>\n",
       "      <td>0.433133</td>\n",
       "      <td>16.901353</td>\n",
       "    </tr>\n",
       "    <tr>\n",
       "      <th>Naive Bayes</th>\n",
       "      <td>0.260023</td>\n",
       "      <td>0.264174</td>\n",
       "      <td>0.055980</td>\n",
       "    </tr>\n",
       "    <tr>\n",
       "      <th>Nearest Neighbors</th>\n",
       "      <td>0.586483</td>\n",
       "      <td>0.250355</td>\n",
       "      <td>0.119385</td>\n",
       "    </tr>\n",
       "    <tr>\n",
       "      <th>Neural Net</th>\n",
       "      <td>0.623139</td>\n",
       "      <td>0.367201</td>\n",
       "      <td>66.124558</td>\n",
       "    </tr>\n",
       "    <tr>\n",
       "      <th>QDA</th>\n",
       "      <td>0.546392</td>\n",
       "      <td>0.123822</td>\n",
       "      <td>1.527040</td>\n",
       "    </tr>\n",
       "    <tr>\n",
       "      <th>RBF SVM</th>\n",
       "      <td>0.595647</td>\n",
       "      <td>0.216197</td>\n",
       "      <td>38.601498</td>\n",
       "    </tr>\n",
       "    <tr>\n",
       "      <th>Random Forest</th>\n",
       "      <td>0.589920</td>\n",
       "      <td>0.211711</td>\n",
       "      <td>0.290222</td>\n",
       "    </tr>\n",
       "    <tr>\n",
       "      <th>Semi-supervised</th>\n",
       "      <td>0.195692</td>\n",
       "      <td>0.208825</td>\n",
       "      <td>10.358563</td>\n",
       "    </tr>\n",
       "  </tbody>\n",
       "</table>\n",
       "</div>"
      ],
      "text/plain": [
       "                   accuracy  balanced accuracy  train time\n",
       "AdaBoost           0.533792           0.242060   12.943259\n",
       "Decision Tree      0.501718           0.206521    2.146109\n",
       "Linear SVC         0.663230           0.370480   26.055732\n",
       "Linear SVM         0.514318           0.433133   16.901353\n",
       "Naive Bayes        0.260023           0.264174    0.055980\n",
       "Nearest Neighbors  0.586483           0.250355    0.119385\n",
       "Neural Net         0.623139           0.367201   66.124558\n",
       "QDA                0.546392           0.123822    1.527040\n",
       "RBF SVM            0.595647           0.216197   38.601498\n",
       "Random Forest      0.589920           0.211711    0.290222\n",
       "Semi-supervised    0.195692           0.208825   10.358563"
      ]
     },
     "metadata": {},
     "output_type": "display_data"
    }
   ],
   "source": [
    "# Compare different classifiers with normal data:\n",
    "result_orig = compare_classifiers(classifiers, orig_splits,\n",
    "                        tot_splits,\n",
    "                        print_results=False, progbar=True)\n",
    "display(pd.DataFrame.from_dict(result_orig, orient='index'))"
   ]
  },
  {
   "cell_type": "markdown",
   "metadata": {
    "colab_type": "text",
    "id": "pAyktjgakPJG"
   },
   "source": [
    "### 3.2 Dimension reduction\n",
    "Having too many features may cause the classification to become noisy or unstable. Therefore we analyze if the dimensions could be reduced. As shown in the section 2, the data had no outstanding features, thus making explicit feature selection by a human impossible. \n",
    "\n",
    "We decided to try to reduce the dimensions of the features with Principle Component Analysis (PCA). PCA is a non-robust method for data with outliers. However, as we had cleaned the data, as shown in section 2, we could use the clean data to perform the PCA. \n",
    "\n",
    "We performed the PCA to the data as a whole, train and test data combined, to get the most accurate result. By setting the limit of principal components so that they would explain 95% of the covariance, we ended up with 77 principal components. "
   ]
  },
  {
   "cell_type": "code",
   "execution_count": 27,
   "metadata": {
    "colab": {},
    "colab_type": "code",
    "id": "K-Kj44wSvMP7"
   },
   "outputs": [],
   "source": [
    "# Perform PCA for the entire dataset, and the different feature types. See if we can use the same principle components\n",
    "from sklearn.decomposition import PCA\n",
    "def calculate_PCAs(X, conv_lim=1):\n",
    "    d = X.shape[1]\n",
    "\n",
    "    pb = IntProgress(min=0, max=d) # instantiate the bar\n",
    "    display(pb) # display the bar\n",
    "\n",
    "    explanation_ratios = []\n",
    "    for p in range(d):\n",
    "        pb.value += 1\n",
    "        pca = PCA(n_components=p)\n",
    "        pca.fit(X)\n",
    "        explanation_ratios.append(sum(pca.explained_variance_ratio_))\n",
    "        if explanation_ratios[-1] > conv_lim:\n",
    "            print(f'PCA convergence limit achieved at no. PC: {p}')\n",
    "            break\n",
    "    return explanation_ratios"
   ]
  },
  {
   "cell_type": "code",
   "execution_count": 29,
   "metadata": {
    "colab": {},
    "colab_type": "code",
    "id": "icjZqwQFvQ7h"
   },
   "outputs": [
    {
     "name": "stdout",
     "output_type": "stream",
     "text": [
      "Entire dataset:\n"
     ]
    },
    {
     "data": {
      "application/vnd.jupyter.widget-view+json": {
       "model_id": "c2472f5d3fbd4098bcfc4747e8dcbc6d",
       "version_major": 2,
       "version_minor": 0
      },
      "text/plain": [
       "IntProgress(value=0, max=260)"
      ]
     },
     "metadata": {},
     "output_type": "display_data"
    },
    {
     "name": "stdout",
     "output_type": "stream",
     "text": [
      "PCA convergence limit achieved at no. PC: 77\n",
      "Rhythm:\n"
     ]
    },
    {
     "data": {
      "application/vnd.jupyter.widget-view+json": {
       "model_id": "dd336611a5744891951aeaaf974d08c6",
       "version_major": 2,
       "version_minor": 0
      },
      "text/plain": [
       "IntProgress(value=0, max=168)"
      ]
     },
     "metadata": {},
     "output_type": "display_data"
    },
    {
     "name": "stdout",
     "output_type": "stream",
     "text": [
      "PCA convergence limit achieved at no. PC: 34\n",
      "Chroma:\n"
     ]
    },
    {
     "data": {
      "application/vnd.jupyter.widget-view+json": {
       "model_id": "5208c53ab9d34d78b21cb0520c61a865",
       "version_major": 2,
       "version_minor": 0
      },
      "text/plain": [
       "IntProgress(value=0, max=48)"
      ]
     },
     "metadata": {},
     "output_type": "display_data"
    },
    {
     "name": "stdout",
     "output_type": "stream",
     "text": [
      "PCA convergence limit achieved at no. PC: 20\n",
      "MCCFs:\n"
     ]
    },
    {
     "data": {
      "application/vnd.jupyter.widget-view+json": {
       "model_id": "46f744083ff24de2aecf89389104c856",
       "version_major": 2,
       "version_minor": 0
      },
      "text/plain": [
       "IntProgress(value=0, max=44)"
      ]
     },
     "metadata": {},
     "output_type": "display_data"
    },
    {
     "name": "stdout",
     "output_type": "stream",
     "text": [
      "PCA convergence limit achieved at no. PC: 27\n"
     ]
    }
   ],
   "source": [
    "print('Entire dataset:')\n",
    "x = X.values\n",
    "cov_ratios_tot = calculate_PCAs(x, 0.95)\n",
    "print('Rhythm:')\n",
    "x = X.loc[:,'R_mean_0':'R_max_23'].values\n",
    "cov_ratios_R = calculate_PCAs(x, 0.95)\n",
    "print('Chroma:')\n",
    "x = X.loc[:,'C_mean_0':'C_max_11'].values\n",
    "cov_ratios_C = calculate_PCAs(x, 0.95)\n",
    "print('MCCFs:')\n",
    "x = X.loc[:,'M_mean_4':'M_max_11'].values  # Columns with anomalies removed\n",
    "cov_ratios_M = calculate_PCAs(x, 0.95)"
   ]
  },
  {
   "cell_type": "code",
   "execution_count": 38,
   "metadata": {
    "colab": {},
    "colab_type": "code",
    "id": "hoUzuyhOvS2s"
   },
   "outputs": [
    {
     "data": {
      "image/png": "[encoded data removed]",
      "text/plain": [
       "<Figure size 720x720 with 4 Axes>"
      ]
     },
     "metadata": {
      "needs_background": "light"
     },
     "output_type": "display_data"
    }
   ],
   "source": [
    "plt.figure(figsize=(10,10))\n",
    "plt.subplot(221), plt.title('Total')\n",
    "plt.plot(cov_ratios_tot)\n",
    "plt.xlabel('No. Principle Components'), plt.ylabel('Covariance explained')\n",
    "plt.subplot(222), plt.title('Rhythm')\n",
    "plt.plot(cov_ratios_R)\n",
    "plt.xlabel('No. Principle Components'), plt.ylabel('Covariance explained')\n",
    "plt.subplot(223), plt.title('Chroma')\n",
    "plt.plot(cov_ratios_C)\n",
    "plt.xlabel('No. Principle Components'), plt.ylabel('Covariance explained')\n",
    "plt.subplot(224), plt.title('MFCCs')\n",
    "plt.plot(cov_ratios_M)\n",
    "plt.xlabel('No. Principle Components'), plt.ylabel('Covariance explained')\n",
    "plt.show()"
   ]
  },
  {
   "cell_type": "markdown",
   "metadata": {
    "colab_type": "text",
    "id": "jQn9tR90xN-D"
   },
   "source": [
    "\n",
    "As we also wanted to examine the effect of applying PCA to the data, we also repeated the model comparison for data that had had its dimensions reduced with PCA."
   ]
  },
  {
   "cell_type": "code",
   "execution_count": 30,
   "metadata": {
    "colab": {},
    "colab_type": "code",
    "id": "ep-w5rQlw4Ic"
   },
   "outputs": [],
   "source": [
    "# PCA transformation for comparison\n",
    "pca = PCA(n_components=77)\n",
    "pca.fit(X_tot)\n",
    "X_pca = pca.transform(X)\n",
    "X_kag_pca = pca.transform(X_kag)\n",
    "X_tot_pca = pca.transform(X_tot)"
   ]
  },
  {
   "cell_type": "code",
   "execution_count": 31,
   "metadata": {
    "colab": {},
    "colab_type": "code",
    "id": "m9W0en4RonTd"
   },
   "outputs": [],
   "source": [
    "pca_splits  = train_test_split(X_pca, y, test_size=0.2, random_state=69)\n",
    "\n",
    "tot_pca_splits = train_test_split(X_tot_pca, y_tot, test_size=0.25, random_state=42)"
   ]
  },
  {
   "cell_type": "code",
   "execution_count": 32,
   "metadata": {
    "colab": {},
    "colab_type": "code",
    "id": "yjkr6UUSxwtm"
   },
   "outputs": [
    {
     "data": {
      "application/vnd.jupyter.widget-view+json": {
       "model_id": "54f4d4d61b954034bbcc90ab014f7082",
       "version_major": 2,
       "version_minor": 0
      },
      "text/plain": [
       "IntProgress(value=0, description='Training:', max=11)"
      ]
     },
     "metadata": {},
     "output_type": "display_data"
    },
    {
     "name": "stderr",
     "output_type": "stream",
     "text": [
      "c:\\users\\olli\\documents\\02_school\\mlbpa_project\\py3env\\lib\\site-packages\\sklearn\\discriminant_analysis.py:686: UserWarning: Variables are collinear\n",
      "  warnings.warn(\"Variables are collinear\")\n"
     ]
    },
    {
     "data": {
      "text/html": [
       "<div>\n",
       "<style scoped>\n",
       "    .dataframe tbody tr th:only-of-type {\n",
       "        vertical-align: middle;\n",
       "    }\n",
       "\n",
       "    .dataframe tbody tr th {\n",
       "        vertical-align: top;\n",
       "    }\n",
       "\n",
       "    .dataframe thead th {\n",
       "        text-align: right;\n",
       "    }\n",
       "</style>\n",
       "<table border=\"1\" class=\"dataframe\">\n",
       "  <thead>\n",
       "    <tr style=\"text-align: right;\">\n",
       "      <th></th>\n",
       "      <th>accuracy</th>\n",
       "      <th>balanced accuracy</th>\n",
       "      <th>train time</th>\n",
       "    </tr>\n",
       "  </thead>\n",
       "  <tbody>\n",
       "    <tr>\n",
       "      <th>AdaBoost</th>\n",
       "      <td>0.518900</td>\n",
       "      <td>0.257232</td>\n",
       "      <td>4.755986</td>\n",
       "    </tr>\n",
       "    <tr>\n",
       "      <th>Decision Tree</th>\n",
       "      <td>0.490263</td>\n",
       "      <td>0.225924</td>\n",
       "      <td>0.709294</td>\n",
       "    </tr>\n",
       "    <tr>\n",
       "      <th>Linear SVC</th>\n",
       "      <td>0.647194</td>\n",
       "      <td>0.351785</td>\n",
       "      <td>2.583850</td>\n",
       "    </tr>\n",
       "    <tr>\n",
       "      <th>Linear SVM</th>\n",
       "      <td>0.529210</td>\n",
       "      <td>0.454856</td>\n",
       "      <td>4.593960</td>\n",
       "    </tr>\n",
       "    <tr>\n",
       "      <th>Naive Bayes</th>\n",
       "      <td>0.597938</td>\n",
       "      <td>0.387299</td>\n",
       "      <td>0.024144</td>\n",
       "    </tr>\n",
       "    <tr>\n",
       "      <th>Nearest Neighbors</th>\n",
       "      <td>0.601375</td>\n",
       "      <td>0.270040</td>\n",
       "      <td>0.034906</td>\n",
       "    </tr>\n",
       "    <tr>\n",
       "      <th>Neural Net</th>\n",
       "      <td>0.568156</td>\n",
       "      <td>0.372649</td>\n",
       "      <td>33.173209</td>\n",
       "    </tr>\n",
       "    <tr>\n",
       "      <th>QDA</th>\n",
       "      <td>0.617411</td>\n",
       "      <td>0.294837</td>\n",
       "      <td>0.357461</td>\n",
       "    </tr>\n",
       "    <tr>\n",
       "      <th>RBF SVM</th>\n",
       "      <td>0.588774</td>\n",
       "      <td>0.233024</td>\n",
       "      <td>12.384875</td>\n",
       "    </tr>\n",
       "    <tr>\n",
       "      <th>Random Forest</th>\n",
       "      <td>0.547537</td>\n",
       "      <td>0.150961</td>\n",
       "      <td>0.317150</td>\n",
       "    </tr>\n",
       "    <tr>\n",
       "      <th>Semi-supervised</th>\n",
       "      <td>0.198020</td>\n",
       "      <td>0.219608</td>\n",
       "      <td>8.597246</td>\n",
       "    </tr>\n",
       "  </tbody>\n",
       "</table>\n",
       "</div>"
      ],
      "text/plain": [
       "                   accuracy  balanced accuracy  train time\n",
       "AdaBoost           0.518900           0.257232    4.755986\n",
       "Decision Tree      0.490263           0.225924    0.709294\n",
       "Linear SVC         0.647194           0.351785    2.583850\n",
       "Linear SVM         0.529210           0.454856    4.593960\n",
       "Naive Bayes        0.597938           0.387299    0.024144\n",
       "Nearest Neighbors  0.601375           0.270040    0.034906\n",
       "Neural Net         0.568156           0.372649   33.173209\n",
       "QDA                0.617411           0.294837    0.357461\n",
       "RBF SVM            0.588774           0.233024   12.384875\n",
       "Random Forest      0.547537           0.150961    0.317150\n",
       "Semi-supervised    0.198020           0.219608    8.597246"
      ]
     },
     "metadata": {},
     "output_type": "display_data"
    }
   ],
   "source": [
    "# Compare different classifiers with PCA dimension reduced data:\n",
    "result_pca = compare_classifiers(classifiers, pca_splits, \n",
    "                        tot_pca_splits,\n",
    "                        print_results=False, progbar=True)\n",
    "display(pd.DataFrame.from_dict(result_pca, orient='index'))"
   ]
  },
  {
   "cell_type": "markdown",
   "metadata": {
    "colab_type": "text",
    "id": "CKhYaouzkRjJ"
   },
   "source": [
    "### 3.2 Model selection\n",
    "As we can see, the neural network and did the best from the selected classifiers. With the facts that there exist multiple machine learning libraries, extensive support, and studies for implementing neural networks, we decided to implement the classifier with TensorFlow. Another fact contributing to the decision was the fact that the training could be done with GPU acceleration, thus decreasing the training time and giving more flexibility for experiments.\n",
    "\n",
    "As the PCA seemed to have a negative effect on the performance of the neural network, we decided not to perform PCA in our classifier. We acknowledge, that there is a possibility that the performance decrease could have been caused by the single, short, training."
   ]
  },
  {
   "cell_type": "markdown",
   "metadata": {
    "colab_type": "text",
    "id": "-NhBGOqYkUFm"
   },
   "source": [
    "#### 3.2.1 Model\n",
    "We implemented a deep neural network model with TensorFlow. This allowed us to quickly experiment with different setups, especially with the help of TensorBoard [2]. The final model used is shown in Figure 2.\n",
    "\n",
    "For loss function, we used categorical cross entropy, as it scales nicely to large data and has no instability issues with large dimensionality [3]. For the optimizer, we used the TensorFlow default ADAM optimization algorithm, as is the industry standard. We tested with Stochastic Gradient Descent optimizer, but it yielded worse results. \n",
    "\n",
    "![](https://image.ibb.co/kv5SV0/model.png)\n",
    "\n",
    "*Figure 2: the classification model*\n",
    "\n",
    "Many of the iterations ended up with a overfitted model. An example can be seen in Figure 3. After reading an excellent article on how to avoid overfitting [4] we implemented dropouts and L2 loss to our network. Finally, to reduce the effect of imbalanced data, we added weights for each class to be used in loss calculation. The source code for the model can be found in Appendix A2, and the parameters used in Appendix A3.\n",
    "\n",
    "![](https://image.ibb.co/fTzk00/run-8.png)\n",
    "\n",
    "*Figure 3 overfitting example*"
   ]
  },
  {
   "cell_type": "markdown",
   "metadata": {
    "colab_type": "text",
    "id": "0mtJKnCSkWwV"
   },
   "source": [
    "### 3.3 Experimental methods\n",
    "A good data and a flexible model do not guarantee a great classifier. Especially as the data was extremely unbalanced, we decided to experiment with methods for making the classifier more accurate. This section describes the experimental methods and the results of using them."
   ]
  },
  {
   "cell_type": "markdown",
   "metadata": {
    "colab_type": "text",
    "id": "f8Z0W-WqkZdi"
   },
   "source": [
    "#### 3.3.1 Data augmentation\n",
    "For the unbalanced data, usually, two different approaches are suggested to augment the balanced data: oversampling and undersampling. In oversampling, we generate more data points for categories, which are underrepresented in our data set. In our case, for example, the labels 5-10. In undersampling, however, we only include a part of the samples in overrepresented categories, such as label 1 in our data.\n",
    "\n",
    "For over- and undersampling, there exists a python library `imbalance-learn` [5], which we used to experiment. However, it offers only very limited options: oversampling methods always make all categories to contain the same amount of samples as the category with most samples in original data. In a similar fashion, undersampling methods always scale the number of samples category wise to the number of samples in the category with the least samples in the original data. These would cause, respectively, oversaturated amount of fabricated samples and great information loss due to ignored samples.\n",
    "\n",
    "To have more flexibility and balance with information loss, we implemented a function `DataHandle.balance` which allowed us to undersample data to any given limit.\n",
    "\n",
    "Eventually, we tested training the network with all original, oversampled and undersampled data. For oversampling, we used SMOTE [6], undersampling Random Undersampling, and balance multiple limits in range 100-1000. Any of the data-augmented trainings did not yield better results than the original. This might have implied some problem in our model, or simply lack training data.\n",
    " \n",
    " We performed the same classifier tests as for original data and PCA transformed data for the undersampled and oversampled data:"
   ]
  },
  {
   "cell_type": "code",
   "execution_count": 33,
   "metadata": {
    "colab": {},
    "colab_type": "code",
    "id": "cPURng6Wypzf"
   },
   "outputs": [],
   "source": [
    "from imblearn.under_sampling import NearMiss\n",
    "from imblearn.over_sampling import SMOTE"
   ]
  },
  {
   "cell_type": "code",
   "execution_count": 34,
   "metadata": {
    "colab": {},
    "colab_type": "code",
    "id": "IV7Lw0Z5yp8E"
   },
   "outputs": [
    {
     "name": "stdout",
     "output_type": "stream",
     "text": [
      "Original data: 4363 samples and 260 features\n",
      "Oversampled data: 21780 samples and 260 features\n",
      "Undersampled data: 860 samples and 260 features\n"
     ]
    }
   ],
   "source": [
    "# ================= BALANCED DATA ==================\n",
    "underSampler = NearMiss()\n",
    "overSampler = SMOTE()\n",
    "\n",
    "# --------------- UNDERSAMPLED DATA ----------------\n",
    "X_us, y_us = underSampler.fit_resample(X, y)\n",
    "\n",
    "# ---------------- OVERSAMPLED DATA ----------------\n",
    "X_os, y_os = overSampler.fit_resample(X, y)\n",
    "\n",
    "print('Original data: %d samples and %d features' % X.shape )\n",
    "print('Oversampled data: %d samples and %d features' % X_os.shape )\n",
    "print('Undersampled data: %d samples and %d features' % X_us.shape )\n",
    "\n",
    "# Under- and Oversample only training data:\n",
    "#  X_train, X_test, y_train, y_test\n",
    "us_X, us_y = underSampler.fit_resample(orig_splits[0], orig_splits[2])\n",
    "os_X, os_y = overSampler.fit_resample(orig_splits[0], orig_splits[2])\n",
    "us_splits = (us_X, orig_splits[1], us_y, orig_splits[3])\n",
    "os_splits = (os_X, orig_splits[1], os_y, orig_splits[3])"
   ]
  },
  {
   "cell_type": "code",
   "execution_count": 35,
   "metadata": {
    "colab": {},
    "colab_type": "code",
    "id": "U0ErzVqByW3U"
   },
   "outputs": [
    {
     "data": {
      "application/vnd.jupyter.widget-view+json": {
       "model_id": "53c11c10cda74476be174df680cb1918",
       "version_major": 2,
       "version_minor": 0
      },
      "text/plain": [
       "IntProgress(value=0, description='Training:', max=11)"
      ]
     },
     "metadata": {},
     "output_type": "display_data"
    },
    {
     "name": "stderr",
     "output_type": "stream",
     "text": [
      "c:\\users\\olli\\documents\\02_school\\mlbpa_project\\py3env\\lib\\site-packages\\sklearn\\svm\\base.py:922: ConvergenceWarning: Liblinear failed to converge, increase the number of iterations.\n",
      "  \"the number of iterations.\", ConvergenceWarning)\n",
      "c:\\users\\olli\\documents\\02_school\\mlbpa_project\\py3env\\lib\\site-packages\\sklearn\\discriminant_analysis.py:686: UserWarning: Variables are collinear\n",
      "  warnings.warn(\"Variables are collinear\")\n"
     ]
    },
    {
     "data": {
      "text/html": [
       "<div>\n",
       "<style scoped>\n",
       "    .dataframe tbody tr th:only-of-type {\n",
       "        vertical-align: middle;\n",
       "    }\n",
       "\n",
       "    .dataframe tbody tr th {\n",
       "        vertical-align: top;\n",
       "    }\n",
       "\n",
       "    .dataframe thead th {\n",
       "        text-align: right;\n",
       "    }\n",
       "</style>\n",
       "<table border=\"1\" class=\"dataframe\">\n",
       "  <thead>\n",
       "    <tr style=\"text-align: right;\">\n",
       "      <th></th>\n",
       "      <th>accuracy</th>\n",
       "      <th>balanced accuracy</th>\n",
       "      <th>train time</th>\n",
       "    </tr>\n",
       "  </thead>\n",
       "  <tbody>\n",
       "    <tr>\n",
       "      <th>AdaBoost</th>\n",
       "      <td>0.358534</td>\n",
       "      <td>0.145150</td>\n",
       "      <td>2.734841</td>\n",
       "    </tr>\n",
       "    <tr>\n",
       "      <th>Decision Tree</th>\n",
       "      <td>0.146621</td>\n",
       "      <td>0.178170</td>\n",
       "      <td>0.344440</td>\n",
       "    </tr>\n",
       "    <tr>\n",
       "      <th>Linear SVC</th>\n",
       "      <td>0.279496</td>\n",
       "      <td>0.344104</td>\n",
       "      <td>4.611720</td>\n",
       "    </tr>\n",
       "    <tr>\n",
       "      <th>Linear SVM</th>\n",
       "      <td>0.308133</td>\n",
       "      <td>0.312435</td>\n",
       "      <td>0.502017</td>\n",
       "    </tr>\n",
       "    <tr>\n",
       "      <th>Naive Bayes</th>\n",
       "      <td>0.138603</td>\n",
       "      <td>0.197271</td>\n",
       "      <td>0.007978</td>\n",
       "    </tr>\n",
       "    <tr>\n",
       "      <th>Nearest Neighbors</th>\n",
       "      <td>0.381443</td>\n",
       "      <td>0.260309</td>\n",
       "      <td>0.019996</td>\n",
       "    </tr>\n",
       "    <tr>\n",
       "      <th>Neural Net</th>\n",
       "      <td>0.226804</td>\n",
       "      <td>0.267122</td>\n",
       "      <td>10.293509</td>\n",
       "    </tr>\n",
       "    <tr>\n",
       "      <th>QDA</th>\n",
       "      <td>0.132875</td>\n",
       "      <td>0.122826</td>\n",
       "      <td>0.399931</td>\n",
       "    </tr>\n",
       "    <tr>\n",
       "      <th>RBF SVM</th>\n",
       "      <td>0.105384</td>\n",
       "      <td>0.199034</td>\n",
       "      <td>0.815294</td>\n",
       "    </tr>\n",
       "    <tr>\n",
       "      <th>Random Forest</th>\n",
       "      <td>0.199313</td>\n",
       "      <td>0.182650</td>\n",
       "      <td>0.061834</td>\n",
       "    </tr>\n",
       "    <tr>\n",
       "      <th>Semi-supervised</th>\n",
       "      <td>0.195692</td>\n",
       "      <td>0.208825</td>\n",
       "      <td>9.501731</td>\n",
       "    </tr>\n",
       "  </tbody>\n",
       "</table>\n",
       "</div>"
      ],
      "text/plain": [
       "                   accuracy  balanced accuracy  train time\n",
       "AdaBoost           0.358534           0.145150    2.734841\n",
       "Decision Tree      0.146621           0.178170    0.344440\n",
       "Linear SVC         0.279496           0.344104    4.611720\n",
       "Linear SVM         0.308133           0.312435    0.502017\n",
       "Naive Bayes        0.138603           0.197271    0.007978\n",
       "Nearest Neighbors  0.381443           0.260309    0.019996\n",
       "Neural Net         0.226804           0.267122   10.293509\n",
       "QDA                0.132875           0.122826    0.399931\n",
       "RBF SVM            0.105384           0.199034    0.815294\n",
       "Random Forest      0.199313           0.182650    0.061834\n",
       "Semi-supervised    0.195692           0.208825    9.501731"
      ]
     },
     "metadata": {},
     "output_type": "display_data"
    }
   ],
   "source": [
    "result_us = compare_classifiers(classifiers, us_splits, \n",
    "                        data_tot_splits=tot_splits,\n",
    "                        print_results=False, progbar=True)\n",
    "display(pd.DataFrame.from_dict(result_us, orient='index'))"
   ]
  },
  {
   "cell_type": "code",
   "execution_count": null,
   "metadata": {
    "colab": {},
    "colab_type": "code",
    "id": "RLluDNWlyXWT"
   },
   "outputs": [],
   "source": [
    "# Training the network and semi-supervised takes a LONG time.\n",
    "# Reduce the max_iters for them to submit this notebook on time:\n",
    "classifiers[\"Neural Net\"] = MLPClassifier(alpha=0.005, learning_rate='adaptive', hidden_layer_sizes=(82,10,), max_iter=100)\n",
    "classifiers[\"Semi-supervised\"] = LabelSpreading(n_jobs=-1, max_iter=100)\n",
    "result_os = compare_classifiers(classifiers, os_splits, \n",
    "                        data_tot_splits=tot_splits,\n",
    "                        print_results=False, progbar=True)\n",
    "display(pd.DataFrame.from_dict(result_os, orient='index'))"
   ]
  },
  {
   "cell_type": "markdown",
   "metadata": {},
   "source": [
    "The tradeoff of computation time and improved accuracy was not convincing in the tests above. Moreover, as the data points were only estimated, they possibly bring noise to the process. Therefore we decided not to use oversampling in our process."
   ]
  },
  {
   "cell_type": "markdown",
   "metadata": {
    "colab_type": "text",
    "id": "S2WJC_qdkbt8"
   },
   "source": [
    "#### 3.3.2 Cross-validation\n",
    "As the training data is extremely small and imbalanced, we decided to implement cross-validation to increase the efficiency of our training, and to get a more reliable evaluation of our performance. Initially, we performed K-fold cross-validation. However, as our data is imbalanced, some of the training sets had not all of the categories represented, leading to very overfitted model. Hence, we switched to Stratified Shuffle split. [7]. This allowed us to have a good representation of all the classes in each iteration. The effect of the cross-validation can be seen in Figure 4\n",
    "\n",
    "![](https://image.ibb.co/c0Q3nf/run-3.png)\n",
    "\n",
    "*Figure 4: Training the model with 5 cross-validation sets*\n",
    "\n",
    "Another method, inspired by the balancing method introduced in section 3.3.1, was to rebalance the data in some iterations. This method would undersample the data iteratively, thus making all of the data eventually present for the training. Normally the undersampling is performed only once, and some of the samples are ignored. with rebalancing, the overrepresented categories would be sampled again, to include the samples which were not present in the previous iteration. However, testing this method did not improve the model and as cross-validation was more researched solution, we continued with it. moreover, in the latter state, when training the model for the kaggle estimation, we removed cross-validation after good model parameters were found.\n",
    "\n",
    "This was implemented as an alternative to cross-validation, but in hindsight would have been more suitable to implement as data augmentation method and used alongside cross-validation."
   ]
  },
  {
   "cell_type": "markdown",
   "metadata": {
    "colab_type": "text",
    "id": "_kDIj5wNkeCl"
   },
   "source": [
    "#### 3.3.3 Semi-supervised learning\n",
    "As the section two stated, we had additional, non-labeled, data available. To add the information from this to our system, we tested some semi-supervised learning. \n",
    "\n",
    "As seen in section 3.1, we tested the ready sklearn solution. The model was trained with a small amount of labeled data concatenated with a bunch of unlabeled data. We used the rest of labeled data as a testing data for the model. Sklearn solution model accuracy was a bit over 50% depending on the amount of given labeled data for the training. \n",
    "\n",
    "Additionally, we implemented a solution with pseudo labeling as described in [8]. This mechanic would assign pseudo labels for every sample in the unlabeled data, and use them to fine-tune the network. We did not see any improvement on this, as can be inspected in Figure 5.\n",
    "\n",
    "![](https://image.ibb.co/k8H7V0/run-22.png)\n",
    "\n",
    "*Figure 5: Semi-supervised learning with fine-tuning the trained model with assigned pseudo-labels*\n",
    "\n",
    "Accidentally, we also implemented a third mechanic, which only applied the pseudo labels once during the training, in contrast to the relabeling after every weight update described in the paper above. Obviously, this approach leads only to overfitting problems. We tried to avoid this by only using the pseudo labels in some training steps. The results were not so good, as seen in Figure 6.\n",
    "\n",
    "![](https://image.ibb.co/cSjk00/run-14.png)\n",
    "\n",
    "*Figure 6: Reassigning the pseudo labels and using them randomly to train the data*\n",
    "\n",
    "We also tried training the network from start with a dataset consisting of the given labeled data, and unlabeled data, which had been labeled with the previous best model. This approach did not improve results at all. Figure 7 shows how accuracy stayed, despite the hyperparameter tuning, at around 55%.\n",
    "\n",
    "\n",
    "![](https://image.ibb.co/iKdQHf/run-20.png)\n",
    "\n",
    "*Figure 7: Training the model again with pseudo labeled data*\n",
    "\n",
    "\n",
    "Another idea we had, from using the data, was to implement an additional loss term for the training, which would utilize the unlabeled data. This loss term would be calculated from the fit of the model to the unlabeled data by summing the probabilities of each assigned label of the sample and dividing it with sample size. The motivation being that a better model would fit better even to the unlabeled data. However, due to time restrictions, this was not implemented."
   ]
  },
  {
   "cell_type": "markdown",
   "metadata": {
    "colab_type": "text",
    "id": "44waVoKgzEnr"
   },
   "source": [
    "\n",
    "### 3.4 Hyperparameter tuning\n",
    "A challenge with neural networks and a limited amount of training data is the optimization of hyperparameters. These parameters include all the choices set before running the network. As the network grows and methods are added, so does the amount of hyperparameters to optimize. \n",
    "\n",
    "As our lack of experience in this field, most of our tuning happened of trial-and-error basis. Moreover, the lack of knowledge of the label distribution in the final evaluation data made it more difficult to optimize the model; we decided to optimize the model with the assumption that the final evaluation data would be similarly distributed as the provided training data. This mainly due to the similarity of testing and training data visible in scatter analysis in section 2.1.3.\n",
    "\n",
    "We experimented with different amounts of hidden layers, different amounts of neurons in each layer and learning rate. As seen in the category analysis in section 2.1.4, there is no clear division of the categories. Therefore we decided to include relatively large layers and multiple of them; this to assure the model could fin the high-dimensional patterns for the classification. \n",
    "\n",
    "The overfit avoidance methods added some parameters: the coefficient for L2 regularisation, and dropout probabilities. Additionally, the experimental methods added the options of using them with some coefficients, such as the scale of applying loss from pseudo labeled data.\n",
    " \n",
    "Moreover, out rather stochastic approach to the model tuning was not very effective. Only later in the process, we started to keep track of the changes and their effects. Implementing some hyperparameter optimizer or researching for some more systematic approach would have been more effective. \n",
    "\n",
    "\n",
    "### Class weights\n",
    "As the data augmentation methods described in section 3.3.1 did not improve our performance, we applied weights for each class when calculating the loss. This, however, either made the accuracy plateau extremely fast (to around accuracy 50%), or did not affect the label assigning after some iterations, as seen in Figure 8. The weights used in the final model can be found in Table 3.\n",
    "\n",
    "\n",
    "![](https://image.ibb.co/ncwZA0/class-weight-effect.png =300x)\n",
    "\n",
    "*Figure 8: Label predictions (above) and real labels (below) over iterations*"
   ]
  },
  {
   "cell_type": "markdown",
   "metadata": {
    "colab_type": "text",
    "id": "-eqVxkwyXJB5"
   },
   "source": [
    "#### 3.5 Used model\n",
    "\n",
    "After the meticulous tuning, we ended up with the model described in table 2.\n",
    "\n",
    "*Table 2: Model hyperparameters:*\n",
    "\n",
    "Parameter | Value\n",
    "------------|-------\n",
    "No. hidden layers | 2\n",
    "Layer 1 dropout | 0.9\n",
    "Layer 2 dropout | 0.7\n",
    "Iterations| 10000\n",
    "CV Shuffles | 2\n",
    "Learning rate alpha | 0.0001\n",
    "L2 regulation: beta | 0.002\n",
    "\n",
    "*Table 3: Class weights used in calculating the cross-entropy*\n",
    "\n",
    "Class | Weight\n",
    "---|---\n",
    "1|0.5\n",
    "2|0.7\n",
    "3|0.8\n",
    "4|0.9\n",
    "5|1\n",
    "6|1\n",
    "7|1\n",
    "8|1\n",
    "9|1\n",
    "10|1\n",
    "\n",
    "The development of training and testing accuracy from the training of said model can be seen in Figure 9.\n",
    "\n",
    "![](https://image.ibb.co/fCEDnf/best-run.png)\n",
    "\n",
    "*Figure 9: Final model training. Orange and cyan are training sets for first and second cross-validation set respectively. Blue and red lines are the evaluation accuracy for first and second cross-validation set respectively*\n",
    "\n",
    "The training of the final model took around 23 minutes."
   ]
  },
  {
   "cell_type": "markdown",
   "metadata": {
    "colab_type": "text",
    "id": "nKo5S5PvxY9a"
   },
   "source": [
    "## 4. Results"
   ]
  },
  {
   "cell_type": "markdown",
   "metadata": {
    "colab_type": "text",
    "id": "_YZszUcHeRyN"
   },
   "source": [
    "After finding the best model we trained it once more with no splitting into train and testing set. This was to include as much information to it as possible. We then evaluated the samples and obtained the predictions.\n",
    "\n",
    "The following cells calculate the performance measures and confusion matrix for the provided training data. "
   ]
  },
  {
   "cell_type": "code",
   "execution_count": 39,
   "metadata": {
    "colab": {},
    "colab_type": "code",
    "id": "JbB5mm7k80B9"
   },
   "outputs": [],
   "source": [
    "from sklearn.metrics import confusion_matrix, log_loss, accuracy_score"
   ]
  },
  {
   "cell_type": "code",
   "execution_count": 42,
   "metadata": {
    "colab": {},
    "colab_type": "code",
    "id": "OyCN86VjxY9d"
   },
   "outputs": [
    {
     "name": "stderr",
     "output_type": "stream",
     "text": [
      "c:\\users\\olli\\documents\\02_school\\mlbpa_project\\py3env\\lib\\site-packages\\ipykernel_launcher.py:3: FutureWarning: from_csv is deprecated. Please use read_csv(...) instead. Note that some of the default arguments are different, so please refer to the documentation for from_csv when changing your function calls\n",
      "  This is separate from the ipykernel package so we can avoid doing imports until\n"
     ]
    },
    {
     "data": {
      "text/html": [
       "<div>\n",
       "<style scoped>\n",
       "    .dataframe tbody tr th:only-of-type {\n",
       "        vertical-align: middle;\n",
       "    }\n",
       "\n",
       "    .dataframe tbody tr th {\n",
       "        vertical-align: top;\n",
       "    }\n",
       "\n",
       "    .dataframe thead th {\n",
       "        text-align: right;\n",
       "    }\n",
       "</style>\n",
       "<table border=\"1\" class=\"dataframe\">\n",
       "  <thead>\n",
       "    <tr style=\"text-align: right;\">\n",
       "      <th></th>\n",
       "      <th>0</th>\n",
       "      <th>1</th>\n",
       "      <th>2</th>\n",
       "      <th>3</th>\n",
       "      <th>4</th>\n",
       "      <th>5</th>\n",
       "      <th>6</th>\n",
       "      <th>7</th>\n",
       "      <th>8</th>\n",
       "      <th>9</th>\n",
       "    </tr>\n",
       "  </thead>\n",
       "  <tbody>\n",
       "    <tr>\n",
       "      <th>0</th>\n",
       "      <td>1905</td>\n",
       "      <td>112</td>\n",
       "      <td>22</td>\n",
       "      <td>27</td>\n",
       "      <td>21</td>\n",
       "      <td>61</td>\n",
       "      <td>1</td>\n",
       "      <td>29</td>\n",
       "      <td>0</td>\n",
       "      <td>0</td>\n",
       "    </tr>\n",
       "    <tr>\n",
       "      <th>1</th>\n",
       "      <td>108</td>\n",
       "      <td>455</td>\n",
       "      <td>21</td>\n",
       "      <td>13</td>\n",
       "      <td>8</td>\n",
       "      <td>11</td>\n",
       "      <td>0</td>\n",
       "      <td>1</td>\n",
       "      <td>1</td>\n",
       "      <td>0</td>\n",
       "    </tr>\n",
       "    <tr>\n",
       "      <th>2</th>\n",
       "      <td>20</td>\n",
       "      <td>24</td>\n",
       "      <td>261</td>\n",
       "      <td>2</td>\n",
       "      <td>2</td>\n",
       "      <td>14</td>\n",
       "      <td>0</td>\n",
       "      <td>3</td>\n",
       "      <td>0</td>\n",
       "      <td>0</td>\n",
       "    </tr>\n",
       "    <tr>\n",
       "      <th>3</th>\n",
       "      <td>35</td>\n",
       "      <td>14</td>\n",
       "      <td>2</td>\n",
       "      <td>179</td>\n",
       "      <td>1</td>\n",
       "      <td>21</td>\n",
       "      <td>0</td>\n",
       "      <td>1</td>\n",
       "      <td>0</td>\n",
       "      <td>0</td>\n",
       "    </tr>\n",
       "    <tr>\n",
       "      <th>4</th>\n",
       "      <td>76</td>\n",
       "      <td>10</td>\n",
       "      <td>6</td>\n",
       "      <td>12</td>\n",
       "      <td>83</td>\n",
       "      <td>16</td>\n",
       "      <td>0</td>\n",
       "      <td>7</td>\n",
       "      <td>4</td>\n",
       "      <td>0</td>\n",
       "    </tr>\n",
       "    <tr>\n",
       "      <th>5</th>\n",
       "      <td>45</td>\n",
       "      <td>6</td>\n",
       "      <td>14</td>\n",
       "      <td>13</td>\n",
       "      <td>8</td>\n",
       "      <td>162</td>\n",
       "      <td>0</td>\n",
       "      <td>12</td>\n",
       "      <td>0</td>\n",
       "      <td>0</td>\n",
       "    </tr>\n",
       "    <tr>\n",
       "      <th>6</th>\n",
       "      <td>52</td>\n",
       "      <td>16</td>\n",
       "      <td>6</td>\n",
       "      <td>16</td>\n",
       "      <td>24</td>\n",
       "      <td>8</td>\n",
       "      <td>0</td>\n",
       "      <td>15</td>\n",
       "      <td>4</td>\n",
       "      <td>0</td>\n",
       "    </tr>\n",
       "    <tr>\n",
       "      <th>7</th>\n",
       "      <td>79</td>\n",
       "      <td>1</td>\n",
       "      <td>1</td>\n",
       "      <td>4</td>\n",
       "      <td>4</td>\n",
       "      <td>2</td>\n",
       "      <td>0</td>\n",
       "      <td>104</td>\n",
       "      <td>0</td>\n",
       "      <td>0</td>\n",
       "    </tr>\n",
       "    <tr>\n",
       "      <th>8</th>\n",
       "      <td>5</td>\n",
       "      <td>6</td>\n",
       "      <td>29</td>\n",
       "      <td>2</td>\n",
       "      <td>11</td>\n",
       "      <td>15</td>\n",
       "      <td>0</td>\n",
       "      <td>3</td>\n",
       "      <td>21</td>\n",
       "      <td>0</td>\n",
       "    </tr>\n",
       "    <tr>\n",
       "      <th>9</th>\n",
       "      <td>38</td>\n",
       "      <td>1</td>\n",
       "      <td>4</td>\n",
       "      <td>15</td>\n",
       "      <td>6</td>\n",
       "      <td>3</td>\n",
       "      <td>0</td>\n",
       "      <td>18</td>\n",
       "      <td>0</td>\n",
       "      <td>1</td>\n",
       "    </tr>\n",
       "  </tbody>\n",
       "</table>\n",
       "</div>"
      ],
      "text/plain": [
       "      0    1    2    3   4    5  6    7   8  9\n",
       "0  1905  112   22   27  21   61  1   29   0  0\n",
       "1   108  455   21   13   8   11  0    1   1  0\n",
       "2    20   24  261    2   2   14  0    3   0  0\n",
       "3    35   14    2  179   1   21  0    1   0  0\n",
       "4    76   10    6   12  83   16  0    7   4  0\n",
       "5    45    6   14   13   8  162  0   12   0  0\n",
       "6    52   16    6   16  24    8  0   15   4  0\n",
       "7    79    1    1    4   4    2  0  104   0  0\n",
       "8     5    6   29    2  11   15  0    3  21  0\n",
       "9    38    1    4   15   6    3  0   18   0  1"
      ]
     },
     "metadata": {},
     "output_type": "display_data"
    },
    {
     "name": "stdout",
     "output_type": "stream",
     "text": [
      "Accuracy: 0.7267934907173963\n",
      "LogLoss: 0.10490520263388436\n"
     ]
    },
    {
     "name": "stderr",
     "output_type": "stream",
     "text": [
      "c:\\users\\olli\\documents\\02_school\\mlbpa_project\\py3env\\lib\\site-packages\\ipykernel_launcher.py:10: FutureWarning: from_csv is deprecated. Please use read_csv(...) instead. Note that some of the default arguments are different, so please refer to the documentation for from_csv when changing your function calls\n",
      "  # Remove the CWD from sys.path while we load stuff.\n"
     ]
    }
   ],
   "source": [
    "#Confusion matrix:\n",
    "real_labels = dataHandle.load_clean_train_data().Label + 1\n",
    "predicted_labels = pd.DataFrame.from_csv('predicted_labels_train.csv').sample_label\n",
    "display(pd.DataFrame(confusion_matrix(real_labels, predicted_labels)))\n",
    "\n",
    "# Accuracy:\n",
    "print('Accuracy:', accuracy_score(real_labels, predicted_labels))\n",
    "\n",
    "#LogLoss:\n",
    "predicted_probas = pd.DataFrame.from_csv('predicted_log_loss_train.csv')\n",
    "print('LogLoss:', 1-log_loss(real_labels, predicted_probas))"
   ]
  },
  {
   "cell_type": "markdown",
   "metadata": {
    "colab_type": "text",
    "id": "ZIybU1GLeOYG"
   },
   "source": [
    "The corresponding measures from the last Kaggle submission were:\n",
    "\n",
    "Accuracy: 0.64544  \n",
    "LogLoss: 0.17204\n",
    "\n",
    "In other words slightly worse than those obtained by evaluating only the training data. This was expected, as the data in Kaggle has data unseen by our model. however, the overall  performance was, within limits, relatively similar in both cases. It is also good to acknowledge, that in the score gotten from Kaggle was obtained by evaluating only 30% of the available data, therefore adding the possibility of the score alternating slightly if all of the data was considered.\n"
   ]
  },
  {
   "cell_type": "markdown",
   "metadata": {
    "colab_type": "text",
    "id": "g0N7jQouxY9f"
   },
   "source": [
    "## 5. Discussion"
   ]
  },
  {
   "cell_type": "markdown",
   "metadata": {
    "colab_type": "text",
    "id": "nPvkwvrU15WQ"
   },
   "source": [
    "Despite our numerous efforts in classifier selection and model tuning, we did not achieve impressive results. Compared to the Kaggle leaderboard at the time of the submission, we did average at best, telling that we have overlooked something. However, compared to a song genre classification model presented in [9], the accuracy was satisfactory. Nevertheless, the problem of implementing a reliable classifier for such imbalanced data, and with limited training data is relatively difficult. Moreover, assigning music genre to a song is an ambiguous task, as stated in the problem description: *\"For simplicity, each song has been assigned only one label that corresponds to the most representative genre.\"* This can be more analyzed by examining the confusion matrix in section 4.\n",
    "\n",
    "The classifier has obviously tried to maximize the accuracy by labeling songs strongly to the pop-rock genre, even despite the class weights. We can see that the genres close to each other, style-wise, have the most confusion within them, such as blues and rock. Additionally, the amount of training samples correlates with the precision. As for the performance measures, the LogLoss is much better for the imbalanced, multiclass data: it allows us to calculate the performance based on all of the classes and not the dominating one. Accuracy can be affected by it much more and give a distortedly good performance. In hindsight, we should have trained the model one more time with extreme weights on other than the first class to improve the result of LogLoss.\n",
    "\n",
    "We believe that we concentrated too harshly on finetuning the one selected model, whereas we should have researched more options for both preprocessing and modelling. Therefore we can assume improvement for the model only by trying different methods, which would require more time. Especially one differing technique we did not try was to implement a set of one-versus-rest classifiers and combining them. That might have been useful with such inbalanced data, as it might have given more control for the weighing of the class assignment probabilities and prevent overfitting to one dominating class. \n",
    "\n",
    "However, as the case is with most classification problems, the most probable way of improving the model would be to gather more data. Due to the nature of the project, this was not possible, but certainly would be interesting to test training the model with the true labels of the unlabeled dataset as well.\n",
    "\n",
    "The results of the project were of mixed feelings: we believed that at least some of the experimental methods described in section 3.3 would had affected the performance positivley. Unfortunately this was not the case. On one hand this shows the power of a simple deep neural network, but on the other hand it opens the discussion of the reliability and correctedness of our model. Nevertheless, we are satisfied with the experience and vast amount of possibillities covered by these experiments. "
   ]
  },
  {
   "cell_type": "markdown",
   "metadata": {
    "colab_type": "text",
    "id": "QzdV87glxY9h"
   },
   "source": [
    "## 6. References"
   ]
  },
  {
   "cell_type": "code",
   "execution_count": 0,
   "metadata": {
    "colab": {},
    "colab_type": "code",
    "id": "JbnLWXr2Cksy"
   },
   "outputs": [],
   "source": [
    "[1] Scikit-learn. [Website] Available: http://scikit-learn.org/stable/supervised_learning.html#supervised-learning.\n",
    "    [Accessed: 2.11.2018].\n",
    "    \n",
    "[2] TensorFlow. [Website] Available: https://www.tensorflow.org/guide/summaries_and_tensorboard.\n",
    "    [Accessed: 2.11.2018].\n",
    "    \n",
    "[3] Ml-cheatsheet. [Website] Available: https://ml-cheatsheet.readthedocs.io/en/latest/loss_functions.html\n",
    "    [Accessed: 2.11.2018]\n",
    "\n",
    "[4] CS231n. [Website] Available: http://cs231n.github.io/neural-networks-3/#sanitycheck\n",
    "    [Accessed: 2.11.2018]\n",
    "\n",
    "[5] Imbalanced-learn. [Website] Available: https://imbalanced-learn.readthedocs.io/en/stable/\n",
    "    [Accessed: 2.11.2018].\n",
    "    \n",
    "[6] Nitesh V. Chawla et al. (2002) SMOTE: Synthetic Minority Over-sampling Technique. [Website] Available: https://jair.org/index.php/jair/article/view/10302/24590\n",
    "    [Accessed: 2.11.2018]\n",
    "  \n",
    "[7] Z. Reitermanová. (2010) Data Splitting. [Article] Available: https://www.mff.cuni.cz/veda/konference/wds/proc/pdf10/WDS10_105_i1_Reitermanova.pdf\n",
    "    [Accessed: 2.11.2018]\n",
    "\n",
    "[8] Dong-Hyun Lee. Pseudo-Label : The Simple and Efficient Semi-Supervised Learning Method for Deep Neural Networks. [Article] Available: http://deeplearning.net/wp-content/uploads/2013/03/pseudo_label_final.pdf\n",
    "    [Accessed: 2.11.2018]\n",
    "    \n",
    "[9] Piotr Kozakowski & Bartosz Michalak. (2016) Music Genre Recognition. [Website] Available: http://deepsound.io/music_genre_recognition.html\n",
    "    [Accessed: 2.11.2018]"
   ]
  },
  {
   "cell_type": "markdown",
   "metadata": {
    "colab_type": "text",
    "id": "408FJvwOxY9h"
   },
   "source": [
    "## Appendix\n"
   ]
  },
  {
   "cell_type": "markdown",
   "metadata": {
    "colab_type": "text",
    "id": "CtNjNKeRrvZz"
   },
   "source": [
    "### A1 Source code for DataHandle"
   ]
  },
  {
   "cell_type": "code",
   "execution_count": 2,
   "metadata": {
    "colab": {},
    "colab_type": "code",
    "id": "-sGUvVWpxY9i"
   },
   "outputs": [],
   "source": [
    "import pandas as pd\n",
    "import numpy as np\n",
    "from sklearn import preprocessing as spre\n",
    "import os\n",
    "from collections import Counter\n",
    "import matplotlib.pyplot as plt\n",
    "import warnings\n",
    "\n",
    "class DataHandle:\n",
    "    def __init__(self):\n",
    "        \"\"\" A Handle for loading the data\n",
    "\n",
    "            The data is not uniform. This class helps to\n",
    "            load and save, if needed, the data of project.\n",
    "        \"\"\"\n",
    "        # Data paths:\n",
    "        self.__DIR = '.'  # os.path.dirname(os.path.realpath(__file__))  # (FIX for jupyter)\n",
    "        self.__DATA_PATH = self.__DIR+'/data/'\n",
    "        # Provided data:\n",
    "        self.train_data_file = self.__DATA_PATH+'train_data.csv'\n",
    "        self.valid_data_file = self.__DATA_PATH+'test_data.csv'\n",
    "        self.train_label_file = self.__DATA_PATH+'train_labels.csv'\n",
    "        # Generated data:\n",
    "        self.feature_label_file = self.__DATA_PATH+'feature_labels.csv'\n",
    "        # Cleaned data:\n",
    "        self.clean_train_file = self.__DATA_PATH+'clean_train.csv'\n",
    "        self.clean_test_file = self.__DATA_PATH+'clean_test.csv'\n",
    "\n",
    "        # Statistics aggregated from sampled data:\n",
    "        self.R_types = ['mean', 'median', 'var', 'kurt', 'skew', 'min', 'max']\n",
    "        self.C_types = ['mean', 'std', 'min', 'max']\n",
    "        self.M_types = ['mean', 'std', 'min', 'max']\n",
    "\n",
    "        # Sampling variables:\n",
    "        self.R_bands = 24\n",
    "        self.C_pitches = 12\n",
    "        self.M_coefs = 12\n",
    "\n",
    "        # Category labels:\n",
    "        self.category_labels = [\n",
    "            '1. Pop_Rock', \n",
    "            '2. Electronic', \n",
    "            '3. Rap',\n",
    "            '4. Jazz', \n",
    "            '5. Latin', \n",
    "            '6. RnB',\n",
    "            '7. International', \n",
    "            '8. Country', \n",
    "            '9. Reggae', \n",
    "            '10. Blues',\n",
    "        ]\n",
    "\n",
    "        self.data = None\n",
    "        # Colours for fun!\n",
    "        # https://xkcd.com/color/rgb/\n",
    "        self.category_colours = ['xkcd:'+c for c in [\n",
    "            'burnt umber',\n",
    "            'acid green',\n",
    "            'grape',\n",
    "            'watermelon',\n",
    "            'lipstick red',\n",
    "            'bluegrey',\n",
    "            'dust',\n",
    "            'golden yellow',\n",
    "            'jungle green',\n",
    "            'midnight blue',\n",
    "        ]]\n",
    "\n",
    "        # GEnerate feature labels for easy indexing \n",
    "        self.create_feature_labels()\n",
    "\n",
    "        # Generate dict-lists for feature type labels\n",
    "        self.R_type_labels = {\n",
    "            t: [f'R_{t}_{i}' for i in range(self.R_bands)] for t in self.R_types\n",
    "        }\n",
    "        self.C_type_labels = {\n",
    "            t: [f'C_{t}_{i}' for i in range(self.C_pitches)] for t in self.C_types\n",
    "        }\n",
    "        self.M_type_labels = {\n",
    "            t: [f'M_{t}_{i}' for i in range(self.M_coefs)] for t in self.M_types\n",
    "        }\n",
    "\n",
    "    def labels_for(self, stat, t):\n",
    "        \"\"\" Return the set of labels for certain statistic and type\n",
    "\n",
    "            Arguments:\n",
    "                stat (str):, either 'R', 'C' or 'M' to select statistic\n",
    "                t (str): a tag to select type\n",
    "\n",
    "            Return (list):\n",
    "                A list of the tags assigned for this statistic type\n",
    "        \"\"\"\n",
    "        if stat == 'R':\n",
    "            l = [f'R_{t}_{i}' for i in range(self.R_bands)]\n",
    "        elif stat == 'C':\n",
    "            l = [f'C_{t}_{i}' for i in range(self.C_pitches)]\n",
    "        elif stat == 'M':\n",
    "            l = [f'M_{t}_{i}' for i in range(4, self.M_coefs)]\n",
    "        else:\n",
    "            raise ValueError('not recognised stat')\n",
    "        return l\n",
    "\n",
    "    def load_train_data_to_memory(self, \n",
    "                                  labels=False, normalise_labels_to=(0,9),\n",
    "                                  feature_labels=False, remove_features=[]):\n",
    "        \"\"\" open the data to memory\n",
    "\n",
    "            Allows data feed with load functions later\n",
    "        \"\"\"\n",
    "        self.data = pd.read_csv(self.train_data_file, header=None, sep=',')\n",
    "        \n",
    "        # Add feature labels if needed:\n",
    "        if feature_labels:\n",
    "            f_labels = self.load_feature_labels()\n",
    "            self.data.columns = f_labels\n",
    "\n",
    "        if remove_features:\n",
    "            self.data.drop(remove_features, axis=1, inplace=True)\n",
    "\n",
    "        # Add labels if needed:\n",
    "        if labels:\n",
    "            labels = self.load_labels(normalise_labels_to)\n",
    "            self.data['Label'] = labels\n",
    "    \n",
    "    def data_generator(self, data, n_yields, \n",
    "                       balance_lim='max', rand_seed_start=None,\n",
    "                       as_tuple=False):\n",
    "        \"\"\" Create a generator for random sampling of the data\n",
    "\n",
    "            Expect the data has 'Label' column.\n",
    "\n",
    "            Arguments:\n",
    "                balance_lim (int,str): if int, describes the limit\n",
    "                    if str, can be 'min'or 'max'\n",
    "                as_tuple (bool): Return tuple with (X, y) dataFrames\n",
    "            Yield:\n",
    "                A dataframe of data\n",
    "        \"\"\"\n",
    "\n",
    "        # Count the number of different labels in the data:\n",
    "        cntr = Counter(list(data.Label))\n",
    "\n",
    "        if balance_lim == 'max':\n",
    "            # A bit redundant but nice implementation\n",
    "            lim = cntr.most_common()[0][1]\n",
    "        elif balance_lim == 'min':\n",
    "            # Limit to minimum amount of elmeents in category:\n",
    "            lim = cntr.most_common()[-1][1]\n",
    "        elif isinstance(balance_lim, int):\n",
    "            lim = balance_lim\n",
    "        elif isinstance(balance_lim, float):\n",
    "            raise NotImplementedError('float division lims')\n",
    "        else:\n",
    "            raise ValueError('Invalid balance_lim argument') \n",
    "\n",
    "        for y in range(n_yields):\n",
    "            if rand_seed_start is not None: \n",
    "                seed = rand_seed_start + y\n",
    "            else:\n",
    "                seed = None\n",
    "            # Init the filtered DataFrame:\n",
    "            yielded_df = pd.DataFrame()\n",
    "\n",
    "            # Sample each category to lim:\n",
    "            for lbl, cnt in iter(cntr.items()):\n",
    "                sample = data[data.Label == lbl].sample(n=min(lim, cnt), \n",
    "                    random_state=seed)\n",
    "                yielded_df = pd.concat([yielded_df, sample], \n",
    "                    axis=0, ignore_index=True)\n",
    "\n",
    "            if as_tuple:\n",
    "                yield ( yielded_df.drop(['Label'], axis=1), yielded_df['Label'])\n",
    "            else:\n",
    "                yield yielded_df\n",
    "\n",
    "    def clean_data(self):\n",
    "        \"\"\" Cleans the training and testing data and saves clean files.\n",
    "\n",
    "            Following steps are made:\n",
    "                1. Load train and test data\n",
    "                2. Label features\n",
    "                3. Remove features which are anomalies\n",
    "                4. Normalise features based on statistic\n",
    "                    - Remove outliers by capping\n",
    "                    - Normalise to 0-1\n",
    "                5. Save the data to:\n",
    "                    - clean_train.csv\n",
    "                    - clean_test.csv\n",
    "        \"\"\"\n",
    "        # 1. Load train and test data\n",
    "        d_train = self.load_train_data(\n",
    "            labels=True, feature_labels=True,\n",
    "            normalise=False, balanced=False)\n",
    "        d_test = self.load_test_data(\n",
    "            labels=True, feature_labels=True, \n",
    "            normalise=False)\n",
    "        data = pd.concat([d_train, d_test])\n",
    "\n",
    "        # 3. Remove features which are anomalies (based on analysis notebook)\n",
    "        data.drop(['M_mean_0', 'M_mean_1', 'M_mean_2', 'M_mean_3'], \n",
    "            axis=1, inplace=True)\n",
    "\n",
    "        # 4. Normalise features based on statistic\n",
    "        #    - Remove outliers by capping\n",
    "        # based on analysis notebook:\n",
    "\n",
    "        caps = {\n",
    "            'R': {\n",
    "                'mean': (1, 14500),\n",
    "                'median': (0, 30000),\n",
    "                'kurt': (1000, 500000),\n",
    "                'skew': (1, 15000),\n",
    "                'min': (1, 8000),\n",
    "                'max': (1, 31500),\n",
    "                'var': (-2000, 20000)\n",
    "            },\n",
    "            'C': {\n",
    "                'mean': (0, 1),\n",
    "                'std': (0, 1),\n",
    "                'min': (0, 0.6),\n",
    "                'max': (0, 1),\n",
    "            },\n",
    "            'M': {\n",
    "                'mean': (-1, 1),\n",
    "                'std': (0, 6),\n",
    "                'min': (-1, 1),\n",
    "                'max': (-1, 1),\n",
    "            }\n",
    "        }\n",
    "        # Rhythm:\n",
    "        for stat, cols in self.R_type_labels.items():\n",
    "            for col in cols:\n",
    "                data[col] = data[col].clip(*caps['R'][stat])\n",
    "        for stat, cols in self.C_type_labels.items():\n",
    "            for col in cols:\n",
    "                data[col] = data[col].clip(*caps['C'][stat])\n",
    "        for stat, cols in self.M_type_labels.items():\n",
    "            for col in cols:\n",
    "                # HACK:\n",
    "                if col in ['M_mean_0', 'M_mean_1', 'M_mean_2', 'M_mean_3']:\n",
    "                    continue\n",
    "                data[col] = data[col].clip(*caps['M'][stat])\n",
    "\n",
    "        # Normalise to 0-1\n",
    "        labels = data['Label']\n",
    "        df = data.drop('Label', axis=1)\n",
    "        min_max_scaler = spre.MinMaxScaler()\n",
    "        scaled = min_max_scaler.fit_transform(df.values)\n",
    "        data = pd.DataFrame(scaled, columns=df.columns)\n",
    "        data['Label'] = labels.values\n",
    "    \n",
    "        # 5. Save the data to:\n",
    "        train_data = data[data.Label != -1]\n",
    "        test_data = data[data.Label == -1]\n",
    "        train_data.to_csv(self.clean_train_file, index=False)\n",
    "        test_data.to_csv(self.clean_test_file, index=False)\n",
    "\n",
    "    def load_clean_train_data(self):\n",
    "        \"\"\" Loads cleaned training data from a file\n",
    "\n",
    "            Return (DataFrame)\n",
    "        \"\"\"\n",
    "        data = pd.read_csv(self.clean_train_file, header=0)\n",
    "        return data\n",
    "        #raise NotImplementedError()\n",
    "    \n",
    "    def load_clean_test_data(self):\n",
    "        \"\"\" Loads cleaned testing data from a file\n",
    "\n",
    "            Return (DataFrame)\n",
    "        \"\"\"\n",
    "        data = pd.read_csv(self.clean_test_file, header=0)\n",
    "        return data\n",
    "        #raise NotImplementedError()\n",
    "\n",
    "    def to_accuracy_kaggle_format_csv(self, labels, suppress=False):\n",
    "        \"\"\" Save the labels into a csv format suitable for Kaggle\n",
    "\n",
    "            For the accuracy competition.\n",
    "\n",
    "            Arguments:\n",
    "                labels (list-like): list of predicted labels\n",
    "\n",
    "            syntax: \n",
    "                row: Id, predicted_label\n",
    "        \"\"\"\n",
    "        # TODO: Implement better\n",
    "        if not isinstance(labels, list):\n",
    "            if isinstance(labels, np.ndarray):\n",
    "                if labels.shape != (1, 6544, 10):\n",
    "                    print(labels.shape)\n",
    "                    raise ValueError('Invalid shape! (1, 6544, 10)')\n",
    "                labels = labels.squeeze()\n",
    "                labels = list(np.argmax(labels, axis=1)+1)\n",
    "                print(\"NOTE:\", len(labels), min(labels), max(labels))\n",
    "                suppress = True\n",
    "            else:\n",
    "                raise TypeError('please provide a list or numpy array')\n",
    "        if not suppress:\n",
    "            if np.min(labels) != 1:\n",
    "                print('min, max',np.min(labels), np.max(labels), len(labels), suppress)\n",
    "                raise ValueError('Labels not in range (1, 10) (min != 1)')\n",
    "            if np.max(labels) != 10:\n",
    "                raise ValueError('Labels not in range (1, 10) (max != 10)')\n",
    "        \n",
    "        df = pd.DataFrame({'sample_label':labels})\n",
    "        df.index += 1\n",
    "        \n",
    "        with open('kaggle_acc_ps.csv', 'w') as f:\n",
    "            df.to_csv(f, index=True, columns=None, index_label='sample_id')\n",
    "            print('SAVED!')\n",
    "        # raise NotImplementedError()\n",
    "\n",
    "    def to_logloss_kaggle_format_csv(self, labels):\n",
    "        \"\"\" Save the labels into a csv format suitable for Kaggle\n",
    "\n",
    "            For the multiclass log-loss competition.\n",
    "\n",
    "            Arguments:\n",
    "                labels (numpy array): and array of label probabilities\n",
    "\n",
    "            syntax: \n",
    "                row: Id, prob_for_label_1, ... ,prob_for_label_10 \n",
    "        \"\"\"\n",
    "        print('saving logloss, shape:', labels.shape)\n",
    "        # Create columns:\n",
    "        cols = [f'Class_{i}' for i in range(1,11)]\n",
    "        # Convert from log-prob to prob\n",
    "        d = np.exp(labels.squeeze())\n",
    "        # COnvert to dataframe for easy export\n",
    "        df = pd.DataFrame(d, columns=cols)\n",
    "        df.index += 1\n",
    "        with open('kaggle_log_loss_ps.csv', 'w') as f:\n",
    "            df.to_csv(f, index=True, columns=None, index_label='sample_id')\n",
    "            print('SAVED!')\n",
    "        #raise NotImplementedError()\n",
    "\n",
    "    def load_train_data(self, labels=False, normalise_labels_to=(0,9),\n",
    "                        feature_labels=False,\n",
    "                        normalise=True, balanced=False, balance_lim='min',\n",
    "                        uniform=None, unifrom_rand_seed=None,\n",
    "                        as_tuple=False):\n",
    "        \"\"\" Loads available training data.\n",
    "\n",
    "            As data is skewed, some balanced selection is needed.\n",
    "            If set, function samples data so each category is \n",
    "            represented in equal amounts.\n",
    "\n",
    "            Note that the labels are added to the DataFrame if \n",
    "            balanced is True.\n",
    "\n",
    "            Arguments:\n",
    "                labels (bool): Whether to append data with label vector\n",
    "                clean (bool): Load cleaned data\n",
    "                normalise_labels_to (tuple): make labels fit into the range\n",
    "                normalise (bool): Normalise variables to 0-1\n",
    "                feature_labels (bool): Append feature names as columns\n",
    "                balanced (bool): Sample data so it is balanced\n",
    "                balance_lim (int): Limit for balancing classes.\n",
    "                as_tuple (bool): Whether to return tuple, (X, y)\n",
    "            \n",
    "            Return (pandas.DataFrame):\n",
    "                A pandas DataFrame with training data. \n",
    "            \n",
    "            The rows and columns of the returned DataFrame are the \n",
    "            observations and features of the training data respectively.\n",
    "\n",
    "            If the balance_lim is not set, the values are selected to have\n",
    "            the same number of values form each class, so that the class\n",
    "            with least values in original distribution includes them all.\n",
    "        \"\"\"\n",
    "        # Load data from file:\n",
    "        if self.data is None:\n",
    "            data = pd.read_csv(self.train_data_file, header=None, sep=',')\n",
    "        else:\n",
    "            data = self.data\n",
    "        \n",
    "        # Normalise variables:\n",
    "        # TODO: Fix\n",
    "        if normalise:\n",
    "            x = data.values\n",
    "            min_max_scaler = spre.MinMaxScaler()\n",
    "            x_scaled = min_max_scaler.fit_transform(x)\n",
    "            data = pd.DataFrame(x_scaled)\n",
    "\n",
    "        # Add feature labels if needed:\n",
    "        if feature_labels:\n",
    "            f_labels = self.load_feature_labels()\n",
    "            data.columns = f_labels\n",
    "\n",
    "        # Add labels if needed:\n",
    "        if labels:\n",
    "            labels = self.load_labels(normalise_labels_to)\n",
    "            data['Label'] = labels\n",
    "        \n",
    "        # Check for legacy mode:\n",
    "        if uniform is not None:\n",
    "            warnings.warn(\n",
    "                '\"uniform\" kwarg is deprecated. Use \"balanced\" instead ',\n",
    "                FutureWarning)\n",
    "            balanced = uniform\n",
    "\n",
    "        # Select a uniform representation if needed:\n",
    "        if balanced:\n",
    "            data = self.balance_data(data, \n",
    "                balance_lim=balance_lim,\n",
    "                seed=unifrom_rand_seed)\n",
    "            \"\"\" OLD\n",
    "            if 'Label' not in data:\n",
    "                labels = self.load_labels(normalise_labels_to)\n",
    "                data['Label'] = labels\n",
    "            cntr = Counter(list(labels))\n",
    "            # Limit to minimum amount of elmeents in category:\n",
    "            if balance_lim == 'max':\n",
    "                # A bit redundant but nice implementation\n",
    "                lim = cntr.most_common()[0][1]\n",
    "            elif balance_lim == 'min':\n",
    "                # Limit to minimum amount of elmeents in category:\n",
    "                lim = cntr.most_common()[-1][1]\n",
    "            elif isinstance(balance_lim, int):\n",
    "                lim = balance_lim\n",
    "            elif isinstance(balance_lim, float):\n",
    "                raise NotImplementedError('float division lims')\n",
    "            else:\n",
    "                raise ValueError('Invalid balance_lim argument') \n",
    "\n",
    "            \n",
    "            # Init the filtered DataFrame:\n",
    "            balanced_df = pd.DataFrame()\n",
    "\n",
    "            # Sample each category to lim:\n",
    "            for lbl, cnt in iter(cntr.items()):\n",
    "                sample = data[data.Label == lbl].sample(n=min(lim, cnt), \n",
    "                    random_state=unifrom_rand_seed)\n",
    "                balanced_df = pd.concat([balanced_df, sample], \n",
    "                    axis=0, ignore_index=True)\n",
    "\n",
    "            data = balanced_df\n",
    "            \"\"\"\n",
    "        return data\n",
    "\n",
    "    def load_test_data(self, labels=False, feature_labels=False,\n",
    "                       normalise=True):\n",
    "        \"\"\" Loads available test data.\n",
    "\n",
    "            As data is skewed, some balanced selection is needed.\n",
    "            If set, function samples data so each category is \n",
    "            represented in equal amounts.\n",
    "\n",
    "            Note that the labels are added to the DataFrame if \n",
    "            balanced is True.\n",
    "\n",
    "            Arguments:\n",
    "                labels (bool): Whether to append data with label vector (-1s)\n",
    "                normalise (bool): Normalise variables to 0-1\n",
    "                feature_labels (bool): Append feature names as column names\n",
    "            \n",
    "            Return (pandas.DataFrame):\n",
    "                A pandas DataFrame with training data. \n",
    "            \n",
    "            The eows and columns of the returned DataFrame are the \n",
    "            observations and features of the training data respectively.\n",
    "\n",
    "            NOTE: Consider whether to sample all available data when \n",
    "            normalising the data.\n",
    "        \"\"\"\n",
    "        # Load data from file:\n",
    "        data = pd.read_csv(self.valid_data_file, header=None, sep=',')\n",
    "        \n",
    "        # Normalise variables:\n",
    "        if normalise:\n",
    "            x = data.values\n",
    "            min_max_scaler = spre.MinMaxScaler()\n",
    "            x_scaled = min_max_scaler.fit_transform(x)\n",
    "            data = pd.DataFrame(x_scaled)\n",
    "\n",
    "        # Add feature labels if needed:\n",
    "        if feature_labels:\n",
    "            f_labels = self.load_feature_labels()\n",
    "            data.columns = f_labels\n",
    "\n",
    "        # Add labels if needed. Augment as -1 as labels are not known:\n",
    "        if labels:\n",
    "            labels = -1*np.ones(data.shape[0])\n",
    "            print(labels.shape, data.shape)\n",
    "            data['Label'] = labels\n",
    "\n",
    "        return data \n",
    "\n",
    "    def balance_data(self, data, balance_lim='min', seed=None):\n",
    "        \n",
    "        cntr = Counter(list(data.Label.values))\n",
    "        # Limit to minimum amount of elmeents in category:\n",
    "        if balance_lim == 'max':\n",
    "            # A bit redundant but nice implementation\n",
    "            lim = cntr.most_common()[0][1]\n",
    "        elif balance_lim == 'min':\n",
    "            # Limit to minimum amount of elmeents in category:\n",
    "            lim = cntr.most_common()[-1][1]\n",
    "        elif isinstance(balance_lim, int):\n",
    "            lim = balance_lim\n",
    "        elif isinstance(balance_lim, float):\n",
    "            raise NotImplementedError('float division lims')\n",
    "        else:\n",
    "            raise ValueError('Invalid balance_lim argument') \n",
    "\n",
    "        # Init the filtered DataFrame:\n",
    "        balanced_df = pd.DataFrame()\n",
    "\n",
    "        # Sample each category to lim:\n",
    "        for lbl, cnt in iter(cntr.items()):\n",
    "            sample = data[data.Label == lbl].sample(n=min(lim, cnt), \n",
    "                random_state=seed)\n",
    "            balanced_df = pd.concat([balanced_df, sample], \n",
    "                axis=0, ignore_index=True)\n",
    "\n",
    "        return balanced_df\n",
    "\n",
    "    @staticmethod\n",
    "    def check_label_space(labels, space):\n",
    "        \"\"\" Check if the labels are in defined space, e.g. 0-9\n",
    "\n",
    "            Arguments:\n",
    "            labels (list like):  labels to check\n",
    "                space (tuple): range for the space, e.g. (1,10)\n",
    "            \n",
    "            Return (bool):\n",
    "                Whether all labels are within the range \n",
    "        \"\"\"\n",
    "        print((*(space[0], space[1]+1)))\n",
    "        return all(l in range(*(space[0], space[1]+1)) for l in labels)\n",
    "\n",
    "    def load_labels(self, normalise_to=(0,9)):\n",
    "        \"\"\" Load category labels\n",
    "\n",
    "            Return (list):\n",
    "                List of the labels\n",
    "\n",
    "            TODO: horrible implementation, redo!\n",
    "        \"\"\"\n",
    "        lbls = pd.read_csv(self.train_label_file,\n",
    "            header=None,sep=',').values.flatten()\n",
    "\n",
    "        if normalise_to == (0,9):\n",
    "            lbls += -1\n",
    "        if self.check_label_space(lbls, normalise_to):\n",
    "            return  lbls\n",
    "        else:\n",
    "            raise ValueError('Invalid label space provided or not matched!')\n",
    "\n",
    "    def load_feature_labels(self):\n",
    "        \"\"\" Load feture labels\n",
    "\n",
    "            Return (list):\n",
    "            List of labels\n",
    "        \"\"\"\n",
    "        return pd.read_csv(self.feature_label_file, \n",
    "            header=None, sep='\\n').values.flatten()\n",
    "\n",
    "    def create_feature_labels(self):\n",
    "        \"\"\" A simple script to form feature labels\n",
    "\n",
    "            Currently features are recognised only by their\n",
    "            index reate a file with labels, separating the\n",
    "            rhythm, chroma and MFCCs.\n",
    "\n",
    "            Therefore, the labels shall be the following:\n",
    "            Column(s) | Feature type | Feature label(s)\n",
    "            ----------|--------------|-----------------\n",
    "                    0 | ID           | ID\n",
    "                1-168 | Rhythm       | R0-R167\n",
    "              169-217 | Chroma       | C0-C47\n",
    "              218-264 | MFCCs        | M0-M47\n",
    "        \"\"\"\n",
    "        self.labels_R = ['R_'+t+'_'+str(i) for t in self.R_types \n",
    "            for i in range(self.R_bands)]\n",
    "        self.labels_C = ['C_'+t+'_'+str(i) for t in self.C_types\n",
    "            for i in range(self.C_pitches)]\n",
    "        self.labels_M = ['M_'+t+'_'+str(i) for t in self.M_types \n",
    "            for i in range(self.M_coefs)]\n",
    "\n",
    "        return self.labels_R+self.labels_C+self.labels_M\n",
    "\n",
    "    def save_feature_labels(self):\n",
    "        \"\"\" Save the created category labels\n",
    "        \"\"\"\n",
    "        labels = self.create_feature_labels()\n",
    "        print(f'Created label vector of length: {len(labels)}')\n",
    "\n",
    "        # Save as csv:\n",
    "        with open('data/feature_labels.csv', 'w') as f:\n",
    "            f.write('\\n'.join(labels))\n",
    "\n",
    "        print('Saved the labels')\n"
   ]
  },
  {
   "cell_type": "markdown",
   "metadata": {
    "colab_type": "text",
    "id": "5Ftf0IQirx-F"
   },
   "source": [
    "### A2 source code for the model"
   ]
  },
  {
   "cell_type": "code",
   "execution_count": 0,
   "metadata": {
    "colab": {},
    "colab_type": "code",
    "id": "LnYVr7Osr4Jr"
   },
   "outputs": [],
   "source": [
    "\"\"\" A full implementation of the tensorflow classificator\n",
    "\n",
    "    Decided to move here as it takes quite a bit of space \n",
    "    in the notebook. Also, here the code factoring is a \n",
    "    bit nicer.\n",
    "\n",
    "    NOTE: Edited from:\n",
    "    https://github.com/tensorflow/tensorflow/blob/master/tensorflow/examples/tutorials/mnist/mnist_with_summaries.py\n",
    "\n",
    "    TODO: Add to the notebook if used in th final version.\n",
    "\"\"\"\n",
    "\n",
    "from sklearn.model_selection import KFold, StratifiedShuffleSplit\n",
    "from sklearn.model_selection import train_test_split\n",
    "\n",
    "import tensorflow as tf\n",
    "import numpy as np\n",
    "import pandas as pd\n",
    "\n",
    "import FLAGS\n",
    "import data_handle as dh\n",
    "\n",
    "def train(train_x_all, train_y_all, test_x, test_y, unlbl_X=None, pseudo_y=None):\n",
    "    # ============================= SESSION INIT ==============================\n",
    "    sess = tf.InteractiveSession()\n",
    "\n",
    "     # ========================== HELPER FUNCTIONS ============================\n",
    "    # Declare some helper funcitons for the tensorboard inspection:\n",
    "    def variable_summaries(var):\n",
    "        \"\"\"Attach a lot of summaries to a Tensor (for TensorBoard visualization).\"\"\"\n",
    "        with tf.name_scope('summaries'):\n",
    "            mean = tf.reduce_mean(var)\n",
    "        tf.summary.scalar('mean', mean)\n",
    "        with tf.name_scope('stddev'):\n",
    "            stddev = tf.sqrt(tf.reduce_mean(tf.square(var - mean)))\n",
    "        tf.summary.scalar('stddev', stddev)\n",
    "        tf.summary.scalar('max', tf.reduce_max(var))\n",
    "        tf.summary.scalar('min', tf.reduce_min(var))\n",
    "        tf.summary.histogram('histogram', var)\n",
    "\n",
    "    # We can't initialize these variables to 0 - the network will get stuck.\n",
    "    def weight_variable(shape):\n",
    "        \"\"\"Create a weight variable with appropriate initialization.\"\"\"\n",
    "        initial = tf.truncated_normal(shape, stddev=0.1)\n",
    "        return tf.Variable(initial)\n",
    "\n",
    "    def bias_variable(shape):\n",
    "        \"\"\"Create a bias variable with appropriate initialization.\"\"\"\n",
    "        initial = tf.constant(0.1, shape=shape)\n",
    "        return tf.Variable(initial)\n",
    "\n",
    "    def nn_layer(input_tensor, input_dim, output_dim, layer_name, act=tf.nn.relu, U=None):\n",
    "        \"\"\"Reusable code for making a simple neural net layer.\n",
    "        It does a matrix multiply, bias add, and then uses ReLU to nonlinearize.\n",
    "        It also sets up name scoping so that the resultant graph is easy to read,\n",
    "        and adds a number of summary ops.\n",
    "        \"\"\"\n",
    "        with tf.name_scope(layer_name):\n",
    "            with tf.name_scope('weights'):\n",
    "                weights = weight_variable([input_dim, output_dim])\n",
    "                variable_summaries(weights)\n",
    "            with tf.name_scope('biases'):\n",
    "                biases = bias_variable([output_dim])\n",
    "                variable_summaries(biases)\n",
    "            with tf.name_scope('Wx_plus_b'):\n",
    "                preactivate = tf.matmul(input_tensor, weights) + biases\n",
    "                tf.summary.histogram('pre-activations', preactivate)\n",
    "                if U is not None:\n",
    "                    pre_U = tf.matmul(input_tensor, weights) + biases\n",
    "            activations = act(preactivate, name='activation')\n",
    "            regularisations = tf.nn.l2_loss(weights)\n",
    "            tf.summary.histogram('activations', activations)\n",
    "            tf.summary.histogram('regularisations', regularisations)\n",
    "            act_U = None if U is None else act(pre_U, name='activation_U')\n",
    "            return activations, regularisations, act_U\n",
    "\n",
    "\n",
    "    # ============================ NETWORK SETUP =============================\n",
    "    # Inputs:\n",
    "    with tf.name_scope('input'):\n",
    "        # Feature matrix:\n",
    "        x  = tf.placeholder(tf.float32, [None, FLAGS.n_features], name='x-input')\n",
    "        # Labels:\n",
    "        y_ = tf.placeholder(tf.int64, [None], name='y-input')\n",
    "        keep_prob1 = tf.placeholder(tf.float32)\n",
    "        keep_prob2 = tf.placeholder(tf.float32)\n",
    "        keep_prob3 = tf.placeholder(tf.float32)\n",
    "\n",
    "        if FLAGS.class_weights is not None:\n",
    "            class_weights = tf.placeholder(tf.float32, [None], name='class_weights')\n",
    "        if FLAGS.unlabeled_loss:\n",
    "            U_x = tf.placeholder(tf.float32, [None, FLAGS.n_features], name='x-input')\n",
    "        else:\n",
    "            U_x = None\n",
    "    # Layer(s):\n",
    "    # -------------------------------  LAYER 1 --------------------------------\n",
    "    hidden, reg1, Uh = nn_layer(x, FLAGS.n_features, FLAGS.n_nodes_layer1, \n",
    "                             'layer1', act=FLAGS.act1, U=U_x)\n",
    "    prev_out_shape =  FLAGS.n_nodes_layer1\n",
    "    regs = reg1\n",
    "    with tf.name_scope('dropout1'):\n",
    "        tf.summary.scalar('dropout_keep_probability',keep_prob1)\n",
    "        dropped = tf.nn.dropout(hidden, keep_prob1)\n",
    "    \n",
    "    # -------------------------------  LAYER 2 --------------------------------\n",
    "    if FLAGS.use_layer_2:\n",
    "        hidden, reg2, Uh = nn_layer(dropped, prev_out_shape, FLAGS.n_nodes_layer2,\n",
    "                                'layer2',  act=FLAGS.act2, U=Uh)\n",
    "        prev_out_shape =  FLAGS.n_nodes_layer2\n",
    "        regs += reg2\n",
    "        with tf.name_scope('dropout2'):\n",
    "            tf.summary.scalar('dropout_keep_probability',keep_prob2)\n",
    "            dropped = tf.nn.dropout(hidden, keep_prob2)\n",
    "\n",
    "    # -------------------------------  LAYER 3 --------------------------------\n",
    "    if FLAGS.use_layer_3:\n",
    "        hidden, reg3, Uh = nn_layer(dropped, prev_out_shape, FLAGS.n_nodes_layer3,\n",
    "                                'layer3',  act=FLAGS.act3, U=Uh)\n",
    "        prev_out_shape =  FLAGS.n_nodes_layer3\n",
    "        regs += reg3\n",
    "        with tf.name_scope('dropout3'):\n",
    "            tf.summary.scalar('dropout_keep_probability',keep_prob3)\n",
    "            dropped = tf.nn.dropout(hidden, keep_prob3)\n",
    "\n",
    "    # -------------------------------  LAYER Y --------------------------------\n",
    "    # Do not apply softmax activation yet, see below.\n",
    "    y, reg_y, Uh = nn_layer(dropped, prev_out_shape, FLAGS.n_labels,\n",
    "                'layer_out', act=tf.identity, U=Uh)\n",
    "    regs += reg_y\n",
    "\n",
    "\n",
    "    # -------------------------------  UPDATE --------------------------------\n",
    "    \n",
    "    with tf.name_scope('cross_entropy'):\n",
    "        with tf.name_scope('bare'):\n",
    "            # Apparently there is some instability issues with sparse_*\n",
    "            # Use one-hot instead:\n",
    "            y_ce = tf.one_hot(y_, FLAGS.n_labels)\n",
    "            loss = tf.losses.softmax_cross_entropy(y_ce, y, weights=class_weights)\n",
    "            tf.summary.scalar('cross_entropy', loss)\n",
    "        with tf.name_scope('with_L2_reg'):\n",
    "            loss = loss + FLAGS.beta * (regs)\n",
    "            tf.summary.scalar('cross_entropy_l2', loss)\n",
    "        with tf.name_scope('with_pseudo_loss'):\n",
    "            # Propagate the unlabaleled data through the network.\n",
    "            # calculate the log-probs.\n",
    "            if FLAGS.unlabeled_loss:\n",
    "                pseudo_loss = FLAGS.jotta * tf.reduce_sum(tf.nn.softmax(Uh))\n",
    "                input(pseudo_loss.shape)\n",
    "                loss = loss + pseudo_loss\n",
    "\n",
    "        \n",
    "    # ------------------------------- OPTIMISER -------------------------------\n",
    "    with tf.name_scope('train'):\n",
    "        train_step = tf.train.AdamOptimizer(FLAGS.alpha).minimize(loss)\n",
    "        #train_step = tf.train.GradientDescentOptimizer(FLAGS.alpha).minimize(loss)\n",
    "    # --------------------------------- STATS --------------------------------\n",
    "    with tf.name_scope('predictions'):\n",
    "        predictions = tf.argmax(y, 1)\n",
    "        log_probs = tf.log(tf.nn.softmax(y))\n",
    "        tf.summary.histogram('log_probabilities', log_probs)\n",
    "\n",
    "    with tf.name_scope('Classifier_performance'):\n",
    "        with tf.name_scope('correct_prediction'):\n",
    "            correct_prediction = tf.equal(predictions, y_)\n",
    "        with tf.name_scope('accuracy'):\n",
    "            accuracy = tf.reduce_mean(tf.cast(correct_prediction, tf.float32))\n",
    "        tf.summary.scalar('accuracy', accuracy)\n",
    "\n",
    "        with tf.name_scope('label_contingency'):\n",
    "            tf.summary.histogram('Real labels', y_)\n",
    "            tf.summary.histogram('Predicted labels', predictions)\n",
    "\n",
    "    # Merge all the summaries for writing\n",
    "    merged = tf.summary.merge_all()\n",
    "\n",
    "\n",
    "    # ============================ TRAINING SETUP =============================\n",
    "    def iterative_train(train_x, train_y, val_x, val_y,\n",
    "                        train_writer, test_writer, glob_step,\n",
    "                        unlbl_X=None, pseudo_y=None):\n",
    "        def feed(train):\n",
    "            if train:\n",
    "                if (unlbl_X is not None and \n",
    "                    pseudo_y is not None and \n",
    "                    np.random.rand(1)[0] < FLAGS.kappa):\n",
    "\n",
    "                    full_X = np.vstack((train_x, unlbl_X))\n",
    "                    full_y = np.hstack((train_y, pseudo_y))\n",
    "                    u_w =  [FLAGS.gamma * FLAGS.class_weights[int(i)] for i in pseudo_y] \n",
    "                    full_w =  [FLAGS.class_weights[int(i)] for i in train_y] + u_w\n",
    "                    # print('Using pseudo!')\n",
    "                    return  {\n",
    "                        x: full_X,\n",
    "                        y_: full_y,\n",
    "                        keep_prob1: FLAGS.dropout1,\n",
    "                        keep_prob2: FLAGS.dropout2,\n",
    "                        keep_prob3: FLAGS.dropout3,\n",
    "                        class_weights: full_w,\n",
    "                    } \n",
    "                return  {\n",
    "                        x: train_x,\n",
    "                        y_: train_y,\n",
    "                        keep_prob1: FLAGS.dropout1,\n",
    "                        keep_prob2: FLAGS.dropout2,\n",
    "                        keep_prob3: FLAGS.dropout3,\n",
    "                        class_weights: [FLAGS.class_weights[int(i)] for i in train_y]\n",
    "                } \n",
    "            else:\n",
    "                return {\n",
    "                        x: test_x,\n",
    "                        y_: test_y,\n",
    "                        keep_prob1: 1,\n",
    "                        keep_prob2: 1,\n",
    "                        keep_prob3: 1,\n",
    "                        class_weights: [FLAGS.class_weights[int(i)] for i in test_y]\n",
    "                } \n",
    "        # Iterate over steps\n",
    "        for i in range(FLAGS.max_steps):\n",
    "            if i % 10 == 0:  # Record summaries and test-set accuracy\n",
    "                summary, acc = sess.run([merged, accuracy],\n",
    "                    feed_dict=feed(train=False))\n",
    "                test_writer.add_summary(summary, glob_step)\n",
    "                \n",
    "                if i % 100 == 0:\n",
    "                    print('Accuracy at step %s: %s' % (i, acc))\n",
    "\n",
    "            else:  # Record train set summaries, and train\n",
    "                if i % 100 == 99:  # Record execution stats\n",
    "                    run_options = tf.RunOptions(trace_level=tf.RunOptions.FULL_TRACE)\n",
    "                    run_metadata = tf.RunMetadata()\n",
    "                    summary, _ = sess.run([merged, train_step],\n",
    "                                            feed_dict=feed(train=True),\n",
    "                                            options=run_options,\n",
    "                                            run_metadata=run_metadata)\n",
    "                    train_writer.add_run_metadata(run_metadata, 'step%03d' % glob_step)\n",
    "                    train_writer.add_summary(summary, glob_step)\n",
    "                    print('Adding run metadata for', glob_step)\n",
    "\n",
    "                else:  # Record a summary\n",
    "                    summary, _ = sess.run([merged, train_step], \n",
    "                        feed_dict=feed(train=True))\n",
    "                    train_writer.add_summary(summary, glob_step)\n",
    "            if FLAGS.semi_supervised and i and ((i % FLAGS.ss_relabel == 0) or \\\n",
    "                (FLAGS.continuous_update and i > FLAGS.ss_relabel)):\n",
    "                # Assign pseudo labels for the unlabeled data:\n",
    "                pseudo_y = sess.run(predictions, feed_dict={\n",
    "                    x: unlbl_X,\n",
    "                    keep_prob1: 1,\n",
    "                    keep_prob2: 1,\n",
    "                    keep_prob3: 1,\n",
    "                })\n",
    "                with tf.name_scope('pseudo_labeling'):\n",
    "                    tf.summary.histogram('pseudo_y', pseudo_y)\n",
    "            glob_step += 1\n",
    "        return glob_step\n",
    "\n",
    "    # -------------------------- CROSS VALIDATION -----------------------------\n",
    "    def cross_validate(train_x_all, train_y_all, test_x, test_y,\n",
    "                       unlbl_X=None, pseudo_y=None):\n",
    "        import matplotlib.pyplot as plt\n",
    "        \"\"\" Perform  Stratified Kfold Shuffle to augment data\n",
    "\n",
    "            Meant to battle overfitting\n",
    "        \"\"\"\n",
    "        results = []\n",
    "        glob_step = 0\n",
    "\n",
    "        # Prepare the shuffler:\n",
    "        shfl = StratifiedShuffleSplit(n_splits=FLAGS.split_size)\n",
    "        print(f'total number of training x samples:{train_x_all.shape}')\n",
    "        print(f'total number of training y samples:{train_y_all.shape}')\n",
    "    \n",
    "        # (DEPRECATED) Tensorflow requires labels as one-hot.\n",
    "        # Convert our multiclass labels into a one-hot arrays:\n",
    "        #train_y_all = (np.arange(11) == train_y_all[:,None]).astype(np.float32)\n",
    "        #test_y = (np.arange(11) == test_y[:,None]).astype(np.float32)\n",
    "        \n",
    "        # Iterate over shuffles:\n",
    "        for f, (train_idx, val_idx) in enumerate(shfl.split(train_x_all, train_y_all)):\n",
    "            # Initiate writers for summaries:\n",
    "            train_writer = tf.summary.FileWriter(\n",
    "                f'{FLAGS.train_summary_path}/fold{f}/',sess.graph, flush_secs=60)\n",
    "            test_writer = tf.summary.FileWriter(\n",
    "                f'{FLAGS.test_summary_path}/fold{f}/', flush_secs=60)\n",
    "        \n",
    "            # Set the data for this fold:\n",
    "            train_x = train_x_all[train_idx]\n",
    "            train_y = train_y_all[train_idx]\n",
    "            val_x = train_x_all[val_idx]\n",
    "            val_y = train_y_all[val_idx]\n",
    "            # Show some curves:\n",
    "            if FLAGS.plot_label_dists:\n",
    "                print(f'Shfl {f}, shape X: {train_x.shape}, y shape: {val_y.shape}')\n",
    "                plt.figure()\n",
    "                plt.subplot(121), plt.hist(train_y), plt.title('Train labels')\n",
    "                plt.subplot(122), plt.hist(val_y), plt.title('Test labels')\n",
    "                plt.suptitle(f'Shfl {f}, shape X: {train_x.shape}, y shape: {val_y.shape}')\n",
    "                plt.show()\n",
    "            # Update global step for folds/ shuffles:\n",
    "            glob_step = iterative_train(train_x, train_y, val_x, val_y,\n",
    "                        train_writer, test_writer, glob_step,\n",
    "                        unlbl_X, pseudo_y)\n",
    "\n",
    "            # Evaluate performance with test data\n",
    "\n",
    "            eval_acc = sess.run(accuracy, feed_dict={\n",
    "                x: test_x, \n",
    "                y_: test_y, \n",
    "                keep_prob1:1,\n",
    "                keep_prob2:1,\n",
    "                keep_prob3:1,})\n",
    "            results.append(eval_acc)\n",
    "\n",
    "            print(results)\n",
    "            train_writer.close()\n",
    "            test_writer.close()\n",
    "    \n",
    "        print(results)\n",
    "    \n",
    "    # ----------------------------- RESAMPLING --------------------------------\n",
    "    def rebalancing_train(train_data, test_x, test_y):\n",
    "        \"\"\" Modified data resampling\n",
    "\n",
    "            Loop over the trian data. loading a balanced dataset each time\n",
    "            Each iteration has sampled the data with different random seed\n",
    "            Thus the labels are still equally represented but no information\n",
    "            is lost.\n",
    "\n",
    "            Highly experimental and slow in terms of loading data; this due\n",
    "            the chewy implementation of data loading. Should be a generator.\n",
    "        \"\"\"\n",
    "        results = []\n",
    "        glob_step = 0\n",
    "        # Init data generator\n",
    "        dataHandle = dh.DataHandle()\n",
    "        # Produces data resampled as (X, y)\n",
    "        data_gen = dataHandle.data_generator(\n",
    "            train_data, \n",
    "            n_yields=FLAGS.rebalance_lim,\n",
    "            balance_lim=FLAGS.balance_lim,\n",
    "            rand_seed_start=1,\n",
    "            as_tuple=True\n",
    "        )\n",
    "        # Iterate over resamples:\n",
    "        for i in range(FLAGS.rebalance_lim):\n",
    "            # Initiate writers for summaries:\n",
    "            train_writer = tf.summary.FileWriter(\n",
    "                f'{FLAGS.train_summary_path}/yield{i}/',sess.graph, flush_secs=60)\n",
    "            test_writer = tf.summary.FileWriter(\n",
    "                f'{FLAGS.test_summary_path}/yield{i}/', flush_secs=60)\n",
    "\n",
    "            # Next resample:\n",
    "            data_X, data_y = next(data_gen)\n",
    "\n",
    "            # Set the data for this fold:\n",
    "            train_x, val_x, train_y, val_y = train_test_split(data_X, data_y, \n",
    "                 test_size=0.25, random_state=42)\n",
    "\n",
    "            # (DEPREATED) Tensorflow requires labels as one-hot.\n",
    "            # Convert our multiclass labels into a one-hot arrays:\n",
    "            #train_y = (np.arange(11) == train_y[:,None]).astype(np.float32)\n",
    "            #val_y = (np.arange(11) == val_y[:,None]).astype(np.float32)\n",
    "            print(f'Shfl {i}, shape X: {train_x.shape}, y shape: {val_y.shape}')\n",
    "\n",
    "            glob_step = iterative_train(train_x, train_y, val_x, val_y,\n",
    "                        train_writer, test_writer, glob_step)\n",
    "\n",
    "            # Evaluate performance with test data\n",
    "            eval_acc = sess.run(accuracy, feed_dict={\n",
    "                x: test_x,\n",
    "                y_: test_y,\n",
    "                keep_prob1:1,\n",
    "                keep_prob2:1,\n",
    "                keep_prob3:1,\n",
    "                class_weights: [FLAGS.class_weights[i] for i in test_y],\n",
    "            })\n",
    "            results.append(eval_acc)\n",
    "\n",
    "            print(results)\n",
    "            train_writer.close()\n",
    "            test_writer.close()\n",
    "        print(results)\n",
    "    \n",
    "    tf.global_variables_initializer().run()\n",
    "\n",
    "    # Train the model, and also write summaries.\n",
    "    # Every 10th step, measure test-set accuracy, and write test summaries\n",
    "    # All other steps, run train_step on training data, & add training summarie\n",
    "    if FLAGS.train_method == 'cross':\n",
    "        cross_validate(train_x_all, train_y_all, test_x, test_y,\n",
    "                       unlbl_X, pseudo_y)\n",
    "        print(\n",
    "            'StratFold: normalised:', FLAGS.normalise,\n",
    "            ',balanced', FLAGS.balance,\n",
    "            ',Iterations:', FLAGS.max_steps,\n",
    "            ',split size:', FLAGS.split_size,\n",
    "            ',learning rate:', FLAGS.alpha,\n",
    "            ',nodes', FLAGS.n_nodes_layer1)\n",
    "    elif FLAGS.train_method == 'rebal':\n",
    "        # Augment the training data frame:\n",
    "        train_data = pd.DataFrame(train_x_all)\n",
    "        train_data['Label'] = train_y_all\n",
    "        rebalancing_train(train_data, test_x, test_y)\n",
    "        print(\n",
    "            'StratFold: normalised:', FLAGS.normalise,\n",
    "            ',balanced', FLAGS.balance,\n",
    "            ',Iterations:', FLAGS.max_steps,\n",
    "            ',balancelim:', FLAGS.balance_lim,\n",
    "            ',rebalances', FLAGS.rebalance_lim,\n",
    "            ',learning rate:', FLAGS.alpha,\n",
    "            ',nodes', FLAGS.n_nodes_layer1)\n",
    "    elif FLAGS.train_method == 'save':\n",
    "        dataHandle = dh.DataHandle()\n",
    "\n",
    "        kaggle_data = dataHandle.load_clean_test_data()\n",
    "        X = kaggle_data.drop('Label', axis=1)\n",
    "\n",
    "        saver = tf.train.Saver()\n",
    "        with tf.Session() as sess:\n",
    "            saver.restore(sess, \"saved_models/\"+FLAGS.save_name)\n",
    "            l = sess.run([predictions], feed_dict={\n",
    "                x: X, y_: [],\n",
    "                keep_prob1:1,\n",
    "                keep_prob2:1,\n",
    "                keep_prob3:1,\n",
    "                class_weights: 1\n",
    "            })\n",
    "            np.save('kaggle_acc.npy', l)\n",
    "            dataHandle.to_accuracy_kaggle_format_csv(labels=pd.DataFrame([{'Label':l}]))\n",
    "    \n",
    "\n",
    "    # ================================ SAVING =================================\n",
    "    if FLAGS.save:\n",
    "        # Add ops to save and restore all the variables.\n",
    "        saver = tf.train.Saver()\n",
    "        # Save the variables to disk.\n",
    "        save_path = saver.save(sess, \"saved_models/\"+FLAGS.save_name)\n",
    "        print(\"Model saved in path: %s\" % save_path)\n",
    "        #session.close()\n",
    "    if FLAGS.kaggle:\n",
    "        dataHandle = dh.DataHandle()\n",
    "\n",
    "        kaggle_data = dataHandle.load_clean_test_data()\n",
    "        dada = kaggle_data.drop('Label', axis=1).values\n",
    "\n",
    "        lgp = sess.run([log_probs], feed_dict={\n",
    "            x: dada,\n",
    "            keep_prob1:1,\n",
    "            keep_prob2:1,\n",
    "            keep_prob3:1})\n",
    "        np.save('kaggle_acc.npy', lgp)\n",
    "        dataHandle.to_accuracy_kaggle_format_csv(labels=np.array(lgp))\n",
    "        dataHandle.to_logloss_kaggle_format_csv(np.array(lgp))\n",
    "    if FLAGS.conf:\n",
    "        dataHandle = dh.DataHandle()\n",
    "\n",
    "        kaggle_data = dataHandle.load_clean_train_data()\n",
    "        dada = kaggle_data.drop('Label', axis=1).values\n",
    "\n",
    "        lgp = sess.run([log_probs], feed_dict={\n",
    "            x: dada,\n",
    "            keep_prob1:1,\n",
    "            keep_prob2:1,\n",
    "            keep_prob3:1})\n",
    "        np.save('conf_labels.npy', lgp)\n",
    "\n",
    "def main():\n",
    "    # Init directories\n",
    "    if tf.gfile.Exists(FLAGS.log_dir):\n",
    "        tf.gfile.DeleteRecursively(FLAGS.log_dir)\n",
    "    tf.gfile.MakeDirs(FLAGS.log_dir)\n",
    "\n",
    "    # Init datahandle:\n",
    "    dataHandle = dh.DataHandle()\n",
    "    if FLAGS.clean:\n",
    "        data = dataHandle.load_clean_train_data()\n",
    "        if FLAGS.use_once_trained:\n",
    "            dada = dataHandle.load_clean_test_data()\n",
    "            dada_labels = pd.read_csv('kaggle_acc_31_c.csv')\n",
    "            print(dada_labels.columns)\n",
    "            dada.Label = dada_labels.Sample_label\n",
    "\n",
    "            data = pd.concat([data, dada])\n",
    "        if FLAGS.balance:\n",
    "            data = dataHandle.balance_data(data, balance_lim=FLAGS.balance_lim)\n",
    "        \n",
    "    else:\n",
    "        data = dataHandle.load_train_data(labels=True, \n",
    "                                        normalise=FLAGS.normalise,\n",
    "                                        normalise_labels_to=(1,10),\n",
    "                                        feature_labels=FLAGS.feat_labels, \n",
    "                                        balanced=FLAGS.balance)\n",
    "        # Drop anomalies\n",
    "        data.drop(['M_mean_0', 'M_mean_1', 'M_mean_2', 'M_mean_3'], \n",
    "            axis=1, inplace=True)\n",
    "\n",
    "    # Normalise labels\n",
    "    data_X = data.drop('Label', axis=1)\n",
    "    data_y = data.Label\n",
    "    print('orig', max(data_y), min(data_y))\n",
    "    print('normd', max(data_y), min(data_y))\n",
    "\n",
    "    X_train, X_test, y_train, y_test = train_test_split(data_X, data_y, \n",
    "        test_size=FLAGS.test_train_portion, random_state=42)\n",
    "\n",
    "    if FLAGS.resample:\n",
    "        X_train, y_train = FLAGS.resampler.fit_resample(X_train, y_train)\n",
    "\n",
    "        train_x_all = X_train.astype(np.float32)\n",
    "        train_y_all = y_train.astype(np.float32)\n",
    "    else:\n",
    "        # Convert types\n",
    "        train_x_all = X_train.values.astype(np.float32)\n",
    "        train_y_all = y_train.values.astype(np.float32)\n",
    "    test_x = X_test.values.astype(np.float32)\n",
    "    test_y = y_test.astype(np.float32)\n",
    "\n",
    "    if FLAGS.semi_supervised:\n",
    "        dataHandle = dh.DataHandle()\n",
    "        unlbl_data = dataHandle.load_clean_test_data()\n",
    "        unlbl_X = unlbl_data.drop('Label', axis=1).values.astype(np.float32)\n",
    "    else:\n",
    "        unlbl_X = None\n",
    "\n",
    "    # Train as set in FLAGS\n",
    "    train(train_x_all, train_y_all, test_x, test_y, unlbl_X=unlbl_X, pseudo_y=None)\n",
    "\n",
    "if __name__ == '__main__':\n",
    "    main()"
   ]
  },
  {
   "cell_type": "markdown",
   "metadata": {
    "colab_type": "text",
    "id": "ipRewCHmr4R8"
   },
   "source": [
    "### A3 parameters used in the model "
   ]
  },
  {
   "cell_type": "code",
   "execution_count": 0,
   "metadata": {
    "colab": {},
    "colab_type": "code",
    "id": "EYjXFpCPr-Ub"
   },
   "outputs": [],
   "source": [
    "\"\"\" ~~~~~~~~~ Shared variables accross the project / Run options ~~~~~~~~~~ \"\"\"\n",
    "from imblearn.over_sampling import SMOTE\n",
    "import tensorflow as tf\n",
    "import numpy as np\n",
    "\n",
    "# ------------------------------- DIRECTORIES ---------------------------------\n",
    "log_dir = 'summaries/'\n",
    "test_summary_path = 'summaries/test/'\n",
    "train_summary_path = 'summaries/train/'\n",
    "save_name = 'model_two_layer_l2.ckpt'\n",
    "\n",
    "\n",
    "# ------------------------------ DATA FEATURES --------------------------------\n",
    "n_features = 260  # (With the infinities sform MFCCs removed)\n",
    "n_labels = 10  # In the csv 1-10, we use 0-9\n",
    "# Use cleaned data:\n",
    "clean =True\n",
    "# Normalise (not used if clean=True):\n",
    "normalise = True\n",
    "# Balancing the data:\n",
    "balance_lim = 200 #'min' # 'min' for balanced, 'max' for non-balanced\n",
    "balance = False\n",
    "\n",
    "# Hack for removing columns (ALready removed if clean=True):\n",
    "feat_labels = True  # Allows us to esily remove bad columns\n",
    "\n",
    "# Splitting for test and train sets:\n",
    "test_train_portion = 0.25\n",
    "\n",
    "# resampling:\n",
    "resample = False\n",
    "sampl_strat = 'auto'\n",
    "resampler = SMOTE(sampling_strategy=sampl_strat,random_state=42)\n",
    "\n",
    "# ------------------------------ RUN PARAMETERS -------------------------------\n",
    "plot_label_dists = False\n",
    "\n",
    "# ----------------------------- MODEL PARAMETERS ------------------------------\n",
    "# Maximum iterations:\n",
    "max_steps = 10000\n",
    "# Learning rate:\n",
    "alpha = 0.0001 #0.00005\n",
    "# l2 regulation coefficient:\n",
    "beta = 0.004\n",
    "\n",
    "# use the data that has been labeleld with previous model\n",
    "#  (pseudo label with new network)\n",
    "use_once_trained = False\n",
    "\n",
    "# Use Semi-supervised learning: labeling the data mid-run\n",
    "semi_supervised = True\n",
    "# how likely use the pseudo traiing set:\n",
    "kappa = 1\n",
    "# on how many iterations you relabel:\n",
    "ss_relabel = 6000\n",
    "# Should relabeling occur after each weight update after above is mathed\n",
    "continuous_update = True\n",
    "# Coefficient for applying pseudo weights:\n",
    "gamma = 0.002  # pseudo label = class_label * gamma\n",
    "\n",
    "# Unlabeled data loss\n",
    "unlabeled_loss = False\n",
    "# Coefficient for pseudo loss (only if unlabeled_loss = True):\n",
    "jotta = 0.5\n",
    "\n",
    "# Weights for classes: 0,1,2,3,4,5,6,7,8,9\n",
    "w = [0.5, 0.7, 0.8, 0.9, 1, 1, 1, 1, 1, 1]\n",
    "class_weights = w\n",
    "# ------------------------------ LAYER OPTIONS --------------------------------\n",
    "# Number of neurons on layer 1:\n",
    "n_nodes_layer1 = 100\n",
    "# Dropout probability for layer 1:\n",
    "dropout1 = 0.9\n",
    "# Activation function:\n",
    "act1 = tf.nn.relu\n",
    "\n",
    "# <<<<<<< USE LAYER 2 >>>>>>>>:\n",
    "use_layer_2 = True \n",
    "# Number of nodes in layer 2:\n",
    "n_nodes_layer2 = 100\n",
    "# Dropout probability for layer 2:\n",
    "dropout2 = 0.7\n",
    "# Activation function:\n",
    "act2 = tf.nn.relu\n",
    "\n",
    "# <<<<<<< USE LAYER 3 >>>>>>>>:\n",
    "use_layer_3 = False \n",
    "# Number of nodes in layer 3:\n",
    "n_nodes_layer3 = 20\n",
    "# Dropout probability for layer 3:\n",
    "dropout3 = 0.5\n",
    "# Activation function:\n",
    "act3 = tf.nn.relu\n",
    "\n",
    "# ---------------------------- TRAINING METHOD --------------------------------\n",
    "train_method = 'cross'\n",
    "#train_method = 'rebal'\n",
    "#train_method = 'save'  # Only saves (BROKEN)\n",
    "\n",
    "# ----------------------------- METHOD OPTIONS --------------------------------\n",
    "# StratifiedShuffle times (only when train_method='cross'):\n",
    "split_size=2\n",
    "# Rebalancing times (only when train_method='rebal'): \n",
    "rebalance_lim=10\n",
    "\n",
    "# ----------------------------- SAVING OPTIONS --------------------------------\n",
    "# Save a csv for kaggle submission:\n",
    "kaggle = True \n",
    "conf = True\n",
    "# Save the model:\n",
    "save = False"
   ]
  }
 ],
 "metadata": {
  "colab": {
   "collapsed_sections": [
    "WgkzGAbQqgac",
    "0iCTdRfdqA-_",
    "8x1r3ykwqGQ8",
    "SqxZkXtNkIUI",
    "pAyktjgakPJG",
    "f8Z0W-WqkZdi",
    "CtNjNKeRrvZz",
    "5Ftf0IQirx-F",
    "ipRewCHmr4R8"
   ],
   "name": "MLBP2018 Project Report.ipynb",
   "provenance": [],
   "toc_visible": true,
   "version": "0.3.2"
  },
  "kernelspec": {
   "display_name": "Python 3",
   "language": "python",
   "name": "python3"
  },
  "language_info": {
   "codemirror_mode": {
    "name": "ipython",
    "version": 3
   },
   "file_extension": ".py",
   "mimetype": "text/x-python",
   "name": "python",
   "nbconvert_exporter": "python",
   "pygments_lexer": "ipython3",
   "version": "3.6.5"
  }
 },
 "nbformat": 4,
 "nbformat_minor": 1
}
